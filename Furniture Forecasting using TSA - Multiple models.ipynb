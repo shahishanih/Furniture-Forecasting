{
 "cells": [
  {
   "cell_type": "code",
   "execution_count": 4,
   "metadata": {},
   "outputs": [
    {
     "data": {
      "text/html": [
       "<div>\n",
       "<style scoped>\n",
       "    .dataframe tbody tr th:only-of-type {\n",
       "        vertical-align: middle;\n",
       "    }\n",
       "\n",
       "    .dataframe tbody tr th {\n",
       "        vertical-align: top;\n",
       "    }\n",
       "\n",
       "    .dataframe thead th {\n",
       "        text-align: right;\n",
       "    }\n",
       "</style>\n",
       "<table border=\"1\" class=\"dataframe\">\n",
       "  <thead>\n",
       "    <tr style=\"text-align: right;\">\n",
       "      <th></th>\n",
       "      <th>Row ID</th>\n",
       "      <th>Order ID</th>\n",
       "      <th>Order Date</th>\n",
       "      <th>Ship Date</th>\n",
       "      <th>Ship Mode</th>\n",
       "      <th>Customer ID</th>\n",
       "      <th>Customer Name</th>\n",
       "      <th>Segment</th>\n",
       "      <th>Country</th>\n",
       "      <th>City</th>\n",
       "      <th>...</th>\n",
       "      <th>Postal Code</th>\n",
       "      <th>Region</th>\n",
       "      <th>Product ID</th>\n",
       "      <th>Category</th>\n",
       "      <th>Sub-Category</th>\n",
       "      <th>Product Name</th>\n",
       "      <th>Sales</th>\n",
       "      <th>Quantity</th>\n",
       "      <th>Discount</th>\n",
       "      <th>Profit</th>\n",
       "    </tr>\n",
       "  </thead>\n",
       "  <tbody>\n",
       "    <tr>\n",
       "      <td>0</td>\n",
       "      <td>1</td>\n",
       "      <td>CA-2016-152156</td>\n",
       "      <td>2016-11-08</td>\n",
       "      <td>2016-11-11</td>\n",
       "      <td>Second Class</td>\n",
       "      <td>CG-12520</td>\n",
       "      <td>Claire Gute</td>\n",
       "      <td>Consumer</td>\n",
       "      <td>United States</td>\n",
       "      <td>Henderson</td>\n",
       "      <td>...</td>\n",
       "      <td>42420</td>\n",
       "      <td>South</td>\n",
       "      <td>FUR-BO-10001798</td>\n",
       "      <td>Furniture</td>\n",
       "      <td>Bookcases</td>\n",
       "      <td>Bush Somerset Collection Bookcase</td>\n",
       "      <td>261.9600</td>\n",
       "      <td>2</td>\n",
       "      <td>0.00</td>\n",
       "      <td>41.9136</td>\n",
       "    </tr>\n",
       "    <tr>\n",
       "      <td>1</td>\n",
       "      <td>2</td>\n",
       "      <td>CA-2016-152156</td>\n",
       "      <td>2016-11-08</td>\n",
       "      <td>2016-11-11</td>\n",
       "      <td>Second Class</td>\n",
       "      <td>CG-12520</td>\n",
       "      <td>Claire Gute</td>\n",
       "      <td>Consumer</td>\n",
       "      <td>United States</td>\n",
       "      <td>Henderson</td>\n",
       "      <td>...</td>\n",
       "      <td>42420</td>\n",
       "      <td>South</td>\n",
       "      <td>FUR-CH-10000454</td>\n",
       "      <td>Furniture</td>\n",
       "      <td>Chairs</td>\n",
       "      <td>Hon Deluxe Fabric Upholstered Stacking Chairs,...</td>\n",
       "      <td>731.9400</td>\n",
       "      <td>3</td>\n",
       "      <td>0.00</td>\n",
       "      <td>219.5820</td>\n",
       "    </tr>\n",
       "    <tr>\n",
       "      <td>2</td>\n",
       "      <td>3</td>\n",
       "      <td>CA-2016-138688</td>\n",
       "      <td>2016-06-12</td>\n",
       "      <td>2016-06-16</td>\n",
       "      <td>Second Class</td>\n",
       "      <td>DV-13045</td>\n",
       "      <td>Darrin Van Huff</td>\n",
       "      <td>Corporate</td>\n",
       "      <td>United States</td>\n",
       "      <td>Los Angeles</td>\n",
       "      <td>...</td>\n",
       "      <td>90036</td>\n",
       "      <td>West</td>\n",
       "      <td>OFF-LA-10000240</td>\n",
       "      <td>Office Supplies</td>\n",
       "      <td>Labels</td>\n",
       "      <td>Self-Adhesive Address Labels for Typewriters b...</td>\n",
       "      <td>14.6200</td>\n",
       "      <td>2</td>\n",
       "      <td>0.00</td>\n",
       "      <td>6.8714</td>\n",
       "    </tr>\n",
       "    <tr>\n",
       "      <td>3</td>\n",
       "      <td>4</td>\n",
       "      <td>US-2015-108966</td>\n",
       "      <td>2015-10-11</td>\n",
       "      <td>2015-10-18</td>\n",
       "      <td>Standard Class</td>\n",
       "      <td>SO-20335</td>\n",
       "      <td>Sean O'Donnell</td>\n",
       "      <td>Consumer</td>\n",
       "      <td>United States</td>\n",
       "      <td>Fort Lauderdale</td>\n",
       "      <td>...</td>\n",
       "      <td>33311</td>\n",
       "      <td>South</td>\n",
       "      <td>FUR-TA-10000577</td>\n",
       "      <td>Furniture</td>\n",
       "      <td>Tables</td>\n",
       "      <td>Bretford CR4500 Series Slim Rectangular Table</td>\n",
       "      <td>957.5775</td>\n",
       "      <td>5</td>\n",
       "      <td>0.45</td>\n",
       "      <td>-383.0310</td>\n",
       "    </tr>\n",
       "    <tr>\n",
       "      <td>4</td>\n",
       "      <td>5</td>\n",
       "      <td>US-2015-108966</td>\n",
       "      <td>2015-10-11</td>\n",
       "      <td>2015-10-18</td>\n",
       "      <td>Standard Class</td>\n",
       "      <td>SO-20335</td>\n",
       "      <td>Sean O'Donnell</td>\n",
       "      <td>Consumer</td>\n",
       "      <td>United States</td>\n",
       "      <td>Fort Lauderdale</td>\n",
       "      <td>...</td>\n",
       "      <td>33311</td>\n",
       "      <td>South</td>\n",
       "      <td>OFF-ST-10000760</td>\n",
       "      <td>Office Supplies</td>\n",
       "      <td>Storage</td>\n",
       "      <td>Eldon Fold 'N Roll Cart System</td>\n",
       "      <td>22.3680</td>\n",
       "      <td>2</td>\n",
       "      <td>0.20</td>\n",
       "      <td>2.5164</td>\n",
       "    </tr>\n",
       "  </tbody>\n",
       "</table>\n",
       "<p>5 rows × 21 columns</p>\n",
       "</div>"
      ],
      "text/plain": [
       "   Row ID        Order ID Order Date  Ship Date       Ship Mode Customer ID  \\\n",
       "0       1  CA-2016-152156 2016-11-08 2016-11-11    Second Class    CG-12520   \n",
       "1       2  CA-2016-152156 2016-11-08 2016-11-11    Second Class    CG-12520   \n",
       "2       3  CA-2016-138688 2016-06-12 2016-06-16    Second Class    DV-13045   \n",
       "3       4  US-2015-108966 2015-10-11 2015-10-18  Standard Class    SO-20335   \n",
       "4       5  US-2015-108966 2015-10-11 2015-10-18  Standard Class    SO-20335   \n",
       "\n",
       "     Customer Name    Segment        Country             City  ...  \\\n",
       "0      Claire Gute   Consumer  United States        Henderson  ...   \n",
       "1      Claire Gute   Consumer  United States        Henderson  ...   \n",
       "2  Darrin Van Huff  Corporate  United States      Los Angeles  ...   \n",
       "3   Sean O'Donnell   Consumer  United States  Fort Lauderdale  ...   \n",
       "4   Sean O'Donnell   Consumer  United States  Fort Lauderdale  ...   \n",
       "\n",
       "  Postal Code  Region       Product ID         Category Sub-Category  \\\n",
       "0       42420   South  FUR-BO-10001798        Furniture    Bookcases   \n",
       "1       42420   South  FUR-CH-10000454        Furniture       Chairs   \n",
       "2       90036    West  OFF-LA-10000240  Office Supplies       Labels   \n",
       "3       33311   South  FUR-TA-10000577        Furniture       Tables   \n",
       "4       33311   South  OFF-ST-10000760  Office Supplies      Storage   \n",
       "\n",
       "                                        Product Name     Sales  Quantity  \\\n",
       "0                  Bush Somerset Collection Bookcase  261.9600         2   \n",
       "1  Hon Deluxe Fabric Upholstered Stacking Chairs,...  731.9400         3   \n",
       "2  Self-Adhesive Address Labels for Typewriters b...   14.6200         2   \n",
       "3      Bretford CR4500 Series Slim Rectangular Table  957.5775         5   \n",
       "4                     Eldon Fold 'N Roll Cart System   22.3680         2   \n",
       "\n",
       "   Discount    Profit  \n",
       "0      0.00   41.9136  \n",
       "1      0.00  219.5820  \n",
       "2      0.00    6.8714  \n",
       "3      0.45 -383.0310  \n",
       "4      0.20    2.5164  \n",
       "\n",
       "[5 rows x 21 columns]"
      ]
     },
     "execution_count": 4,
     "metadata": {},
     "output_type": "execute_result"
    }
   ],
   "source": [
    "import pandas as pd \n",
    "import numpy as np \n",
    "import matplotlib.pyplot as plt \n",
    "#Importing data\n",
    "df = pd.read_excel('Sample - Superstore.xls')\n",
    "#Printing head\n",
    "df.head()"
   ]
  },
  {
   "cell_type": "code",
   "execution_count": 5,
   "metadata": {},
   "outputs": [
    {
     "data": {
      "text/plain": [
       "(9994, 21)"
      ]
     },
     "execution_count": 5,
     "metadata": {},
     "output_type": "execute_result"
    }
   ],
   "source": [
    "df.shape"
   ]
  },
  {
   "cell_type": "code",
   "execution_count": 20,
   "metadata": {},
   "outputs": [
    {
     "data": {
      "text/plain": [
       "Office Supplies    6026\n",
       "Furniture          2121\n",
       "Technology         1847\n",
       "Name: Category, dtype: int64"
      ]
     },
     "execution_count": 20,
     "metadata": {},
     "output_type": "execute_result"
    }
   ],
   "source": [
    "df.Category.value_counts()"
   ]
  },
  {
   "cell_type": "code",
   "execution_count": 21,
   "metadata": {},
   "outputs": [
    {
     "data": {
      "text/plain": [
       "(2121, 21)"
      ]
     },
     "execution_count": 21,
     "metadata": {},
     "output_type": "execute_result"
    }
   ],
   "source": [
    "furniture = df.loc[df['Category'] == 'Furniture']#location is fetched in local dataframe.\n",
    "furniture.shape"
   ]
  },
  {
   "cell_type": "code",
   "execution_count": 22,
   "metadata": {},
   "outputs": [
    {
     "data": {
      "text/plain": [
       "(Timestamp('2014-01-06 00:00:00'), Timestamp('2017-12-30 00:00:00'))"
      ]
     },
     "execution_count": 22,
     "metadata": {},
     "output_type": "execute_result"
    }
   ],
   "source": [
    "furniture['Order Date'].min(), furniture['Order Date'].max()"
   ]
  },
  {
   "cell_type": "code",
   "execution_count": 23,
   "metadata": {},
   "outputs": [
    {
     "data": {
      "text/plain": [
       "Order Date    0\n",
       "Sales         0\n",
       "dtype: int64"
      ]
     },
     "execution_count": 23,
     "metadata": {},
     "output_type": "execute_result"
    }
   ],
   "source": [
    "furniture=furniture[[\"Order Date\",\"Sales\"]]# order date is indexing column and sales is y column\n",
    "furniture = furniture.sort_values('Order Date')#sorting on order date\n",
    "furniture.isnull().sum()"
   ]
  },
  {
   "cell_type": "code",
   "execution_count": 24,
   "metadata": {},
   "outputs": [
    {
     "data": {
      "text/html": [
       "<div>\n",
       "<style scoped>\n",
       "    .dataframe tbody tr th:only-of-type {\n",
       "        vertical-align: middle;\n",
       "    }\n",
       "\n",
       "    .dataframe tbody tr th {\n",
       "        vertical-align: top;\n",
       "    }\n",
       "\n",
       "    .dataframe thead th {\n",
       "        text-align: right;\n",
       "    }\n",
       "</style>\n",
       "<table border=\"1\" class=\"dataframe\">\n",
       "  <thead>\n",
       "    <tr style=\"text-align: right;\">\n",
       "      <th></th>\n",
       "      <th>Order Date</th>\n",
       "      <th>Sales</th>\n",
       "    </tr>\n",
       "  </thead>\n",
       "  <tbody>\n",
       "    <tr>\n",
       "      <td>7474</td>\n",
       "      <td>2014-01-06</td>\n",
       "      <td>2573.820</td>\n",
       "    </tr>\n",
       "    <tr>\n",
       "      <td>7660</td>\n",
       "      <td>2014-01-07</td>\n",
       "      <td>76.728</td>\n",
       "    </tr>\n",
       "    <tr>\n",
       "      <td>866</td>\n",
       "      <td>2014-01-10</td>\n",
       "      <td>51.940</td>\n",
       "    </tr>\n",
       "    <tr>\n",
       "      <td>716</td>\n",
       "      <td>2014-01-11</td>\n",
       "      <td>9.940</td>\n",
       "    </tr>\n",
       "    <tr>\n",
       "      <td>2978</td>\n",
       "      <td>2014-01-13</td>\n",
       "      <td>545.940</td>\n",
       "    </tr>\n",
       "    <tr>\n",
       "      <td>4938</td>\n",
       "      <td>2014-01-13</td>\n",
       "      <td>333.999</td>\n",
       "    </tr>\n",
       "    <tr>\n",
       "      <td>6474</td>\n",
       "      <td>2014-01-14</td>\n",
       "      <td>61.960</td>\n",
       "    </tr>\n",
       "    <tr>\n",
       "      <td>970</td>\n",
       "      <td>2014-01-16</td>\n",
       "      <td>127.104</td>\n",
       "    </tr>\n",
       "    <tr>\n",
       "      <td>5465</td>\n",
       "      <td>2014-01-19</td>\n",
       "      <td>181.470</td>\n",
       "    </tr>\n",
       "    <tr>\n",
       "      <td>6327</td>\n",
       "      <td>2014-01-20</td>\n",
       "      <td>272.940</td>\n",
       "    </tr>\n",
       "  </tbody>\n",
       "</table>\n",
       "</div>"
      ],
      "text/plain": [
       "     Order Date     Sales\n",
       "7474 2014-01-06  2573.820\n",
       "7660 2014-01-07    76.728\n",
       "866  2014-01-10    51.940\n",
       "716  2014-01-11     9.940\n",
       "2978 2014-01-13   545.940\n",
       "4938 2014-01-13   333.999\n",
       "6474 2014-01-14    61.960\n",
       "970  2014-01-16   127.104\n",
       "5465 2014-01-19   181.470\n",
       "6327 2014-01-20   272.940"
      ]
     },
     "execution_count": 24,
     "metadata": {},
     "output_type": "execute_result"
    }
   ],
   "source": [
    "furniture.head(10)"
   ]
  },
  {
   "cell_type": "code",
   "execution_count": 25,
   "metadata": {},
   "outputs": [
    {
     "data": {
      "text/plain": [
       "(889, 2)"
      ]
     },
     "execution_count": 25,
     "metadata": {},
     "output_type": "execute_result"
    }
   ],
   "source": [
    "furniture = furniture.groupby('Order Date')['Sales'].sum().reset_index()#grouping the 2 values which have same date and summing that into single block.\n",
    "#resetindex would give the default index.\n",
    "furniture.shape"
   ]
  },
  {
   "cell_type": "code",
   "execution_count": 26,
   "metadata": {},
   "outputs": [
    {
     "data": {
      "text/html": [
       "<div>\n",
       "<style scoped>\n",
       "    .dataframe tbody tr th:only-of-type {\n",
       "        vertical-align: middle;\n",
       "    }\n",
       "\n",
       "    .dataframe tbody tr th {\n",
       "        vertical-align: top;\n",
       "    }\n",
       "\n",
       "    .dataframe thead th {\n",
       "        text-align: right;\n",
       "    }\n",
       "</style>\n",
       "<table border=\"1\" class=\"dataframe\">\n",
       "  <thead>\n",
       "    <tr style=\"text-align: right;\">\n",
       "      <th></th>\n",
       "      <th>Order Date</th>\n",
       "      <th>Sales</th>\n",
       "    </tr>\n",
       "  </thead>\n",
       "  <tbody>\n",
       "    <tr>\n",
       "      <td>0</td>\n",
       "      <td>2014-01-06</td>\n",
       "      <td>2573.820</td>\n",
       "    </tr>\n",
       "    <tr>\n",
       "      <td>1</td>\n",
       "      <td>2014-01-07</td>\n",
       "      <td>76.728</td>\n",
       "    </tr>\n",
       "    <tr>\n",
       "      <td>2</td>\n",
       "      <td>2014-01-10</td>\n",
       "      <td>51.940</td>\n",
       "    </tr>\n",
       "    <tr>\n",
       "      <td>3</td>\n",
       "      <td>2014-01-11</td>\n",
       "      <td>9.940</td>\n",
       "    </tr>\n",
       "    <tr>\n",
       "      <td>4</td>\n",
       "      <td>2014-01-13</td>\n",
       "      <td>879.939</td>\n",
       "    </tr>\n",
       "    <tr>\n",
       "      <td>5</td>\n",
       "      <td>2014-01-14</td>\n",
       "      <td>61.960</td>\n",
       "    </tr>\n",
       "    <tr>\n",
       "      <td>6</td>\n",
       "      <td>2014-01-16</td>\n",
       "      <td>127.104</td>\n",
       "    </tr>\n",
       "    <tr>\n",
       "      <td>7</td>\n",
       "      <td>2014-01-19</td>\n",
       "      <td>181.470</td>\n",
       "    </tr>\n",
       "    <tr>\n",
       "      <td>8</td>\n",
       "      <td>2014-01-20</td>\n",
       "      <td>1413.510</td>\n",
       "    </tr>\n",
       "    <tr>\n",
       "      <td>9</td>\n",
       "      <td>2014-01-21</td>\n",
       "      <td>25.248</td>\n",
       "    </tr>\n",
       "  </tbody>\n",
       "</table>\n",
       "</div>"
      ],
      "text/plain": [
       "  Order Date     Sales\n",
       "0 2014-01-06  2573.820\n",
       "1 2014-01-07    76.728\n",
       "2 2014-01-10    51.940\n",
       "3 2014-01-11     9.940\n",
       "4 2014-01-13   879.939\n",
       "5 2014-01-14    61.960\n",
       "6 2014-01-16   127.104\n",
       "7 2014-01-19   181.470\n",
       "8 2014-01-20  1413.510\n",
       "9 2014-01-21    25.248"
      ]
     },
     "execution_count": 26,
     "metadata": {},
     "output_type": "execute_result"
    }
   ],
   "source": [
    "furniture.head(10)"
   ]
  },
  {
   "cell_type": "code",
   "execution_count": 28,
   "metadata": {},
   "outputs": [],
   "source": [
    "furniture = furniture.set_index('Order Date')#set order date as indexing column."
   ]
  },
  {
   "cell_type": "code",
   "execution_count": 29,
   "metadata": {},
   "outputs": [
    {
     "data": {
      "text/html": [
       "<div>\n",
       "<style scoped>\n",
       "    .dataframe tbody tr th:only-of-type {\n",
       "        vertical-align: middle;\n",
       "    }\n",
       "\n",
       "    .dataframe tbody tr th {\n",
       "        vertical-align: top;\n",
       "    }\n",
       "\n",
       "    .dataframe thead th {\n",
       "        text-align: right;\n",
       "    }\n",
       "</style>\n",
       "<table border=\"1\" class=\"dataframe\">\n",
       "  <thead>\n",
       "    <tr style=\"text-align: right;\">\n",
       "      <th></th>\n",
       "      <th>Sales</th>\n",
       "    </tr>\n",
       "    <tr>\n",
       "      <th>Order Date</th>\n",
       "      <th></th>\n",
       "    </tr>\n",
       "  </thead>\n",
       "  <tbody>\n",
       "    <tr>\n",
       "      <td>2014-01-06</td>\n",
       "      <td>2573.820</td>\n",
       "    </tr>\n",
       "    <tr>\n",
       "      <td>2014-01-07</td>\n",
       "      <td>76.728</td>\n",
       "    </tr>\n",
       "    <tr>\n",
       "      <td>2014-01-10</td>\n",
       "      <td>51.940</td>\n",
       "    </tr>\n",
       "    <tr>\n",
       "      <td>2014-01-11</td>\n",
       "      <td>9.940</td>\n",
       "    </tr>\n",
       "    <tr>\n",
       "      <td>2014-01-13</td>\n",
       "      <td>879.939</td>\n",
       "    </tr>\n",
       "  </tbody>\n",
       "</table>\n",
       "</div>"
      ],
      "text/plain": [
       "               Sales\n",
       "Order Date          \n",
       "2014-01-06  2573.820\n",
       "2014-01-07    76.728\n",
       "2014-01-10    51.940\n",
       "2014-01-11     9.940\n",
       "2014-01-13   879.939"
      ]
     },
     "execution_count": 29,
     "metadata": {},
     "output_type": "execute_result"
    }
   ],
   "source": [
    "furniture.head()"
   ]
  },
  {
   "cell_type": "code",
   "execution_count": 31,
   "metadata": {},
   "outputs": [],
   "source": [
    "y = furniture['Sales'].resample('MS').mean()#single entity for monthly level.MS= monthly start\n"
   ]
  },
  {
   "cell_type": "code",
   "execution_count": 33,
   "metadata": {},
   "outputs": [
    {
     "name": "stdout",
     "output_type": "stream",
     "text": [
      "(48,)\n"
     ]
    },
    {
     "data": {
      "text/plain": [
       "Order Date\n",
       "2014-01-01     480.194231\n",
       "2014-02-01     367.931600\n",
       "2014-03-01     857.291529\n",
       "2014-04-01     567.488357\n",
       "2014-05-01     432.049188\n",
       "2014-06-01     695.059242\n",
       "2014-07-01     601.169500\n",
       "2014-08-01     457.521656\n",
       "2014-09-01     992.353367\n",
       "2014-10-01     769.015437\n",
       "2014-11-01     980.221486\n",
       "2014-12-01    1532.298325\n",
       "2015-01-01     978.328467\n",
       "2015-02-01     522.395667\n",
       "2015-03-01     781.236437\n",
       "2015-04-01     805.822962\n",
       "2015-05-01     624.996700\n",
       "2015-06-01     428.565500\n",
       "2015-07-01     719.706316\n",
       "2015-08-01     602.412012\n",
       "2015-09-01    1382.790684\n",
       "2015-10-01     632.980184\n",
       "2015-11-01    1286.701354\n",
       "2015-12-01    1049.355418\n",
       "2016-01-01     508.182867\n",
       "2016-02-01     356.868273\n",
       "2016-03-01     609.575810\n",
       "2016-04-01     695.373158\n",
       "2016-05-01     687.265227\n",
       "2016-06-01     816.910750\n",
       "2016-07-01     768.736412\n",
       "2016-08-01     734.307782\n",
       "2016-09-01    1135.953371\n",
       "2016-10-01     624.872474\n",
       "2016-11-01    1271.345152\n",
       "2016-12-01    1410.719808\n",
       "2017-01-01     397.602133\n",
       "2017-02-01     528.179800\n",
       "2017-03-01     544.672240\n",
       "2017-04-01     453.297905\n",
       "2017-05-01     678.302328\n",
       "2017-06-01     826.460291\n",
       "2017-07-01     562.524857\n",
       "2017-08-01     857.881889\n",
       "2017-09-01    1209.508583\n",
       "2017-10-01     875.362728\n",
       "2017-11-01    1277.817759\n",
       "2017-12-01    1256.298672\n",
       "Freq: MS, Name: Sales, dtype: float64"
      ]
     },
     "execution_count": 33,
     "metadata": {},
     "output_type": "execute_result"
    }
   ],
   "source": [
    "print(y.shape)\n",
    "y\n"
   ]
  },
  {
   "cell_type": "code",
   "execution_count": 35,
   "metadata": {},
   "outputs": [
    {
     "data": {
      "image/png": "[encoded data removed]",
      "text/plain": [
       "<Figure size 720x432 with 1 Axes>"
      ]
     },
     "metadata": {
      "needs_background": "light"
     },
     "output_type": "display_data"
    }
   ],
   "source": [
    "y.plot(figsize=(10, 6))\n",
    "plt.show()"
   ]
  },
  {
   "cell_type": "code",
   "execution_count": 36,
   "metadata": {},
   "outputs": [
    {
     "data": {
      "text/plain": [
       "Order Date\n",
       "2016-08-01     734.307782\n",
       "2016-09-01    1135.953371\n",
       "2016-10-01     624.872474\n",
       "2016-11-01    1271.345152\n",
       "2016-12-01    1410.719808\n",
       "Freq: MS, Name: Sales, dtype: float64"
      ]
     },
     "execution_count": 36,
     "metadata": {},
     "output_type": "execute_result"
    }
   ],
   "source": [
    "train=y.loc[:'2016-12-01']#from 1st jan to 1 st dec 2016 \n",
    "train.tail()"
   ]
  },
  {
   "cell_type": "code",
   "execution_count": 37,
   "metadata": {},
   "outputs": [
    {
     "data": {
      "text/plain": [
       "Order Date\n",
       "2017-08-01     857.881889\n",
       "2017-09-01    1209.508583\n",
       "2017-10-01     875.362728\n",
       "2017-11-01    1277.817759\n",
       "2017-12-01    1256.298672\n",
       "Freq: MS, Name: Sales, dtype: float64"
      ]
     },
     "execution_count": 37,
     "metadata": {},
     "output_type": "execute_result"
    }
   ],
   "source": [
    "\n",
    "test=y.loc['2017-01-01':]#from 1st jan to the end\n",
    "test.tail()"
   ]
  },
  {
   "cell_type": "code",
   "execution_count": 38,
   "metadata": {},
   "outputs": [
    {
     "data": {
      "image/png": "[encoded data removed]",
      "text/plain": [
       "<Figure size 720x432 with 1 Axes>"
      ]
     },
     "metadata": {
      "needs_background": "light"
     },
     "output_type": "display_data"
    }
   ],
   "source": [
    "#Plotting data\n",
    "train.plot(figsize=(10,6), title= 'Average Sales', fontsize=14)\n",
    "test.plot(figsize=(10,6), title= 'Average Sales', fontsize=14)\n",
    "plt.show()"
   ]
  },
  {
   "cell_type": "code",
   "execution_count": null,
   "metadata": {},
   "outputs": [],
   "source": []
  },
  {
   "cell_type": "code",
   "execution_count": 40,
   "metadata": {},
   "outputs": [
    {
     "data": {
      "image/png": "[encoded data removed]",
      "text/plain": [
       "<Figure size 720x432 with 1 Axes>"
      ]
     },
     "metadata": {
      "needs_background": "light"
     },
     "output_type": "display_data"
    }
   ],
   "source": [
    "from statsmodels.tsa.api import SimpleExpSmoothing \n",
    "Exp_Smooth = test.copy()\n",
    "fit1 = SimpleExpSmoothing(train).fit(smoothing_level=0.1)#value close to 0.1 means the older data is less important and new data is more important.\n",
    "Exp_Smooth['SES'] = fit1.forecast(len(test))#forecast means how much time u want to forecast. len(test) means we want to forecast on those 12 datasets.\n",
    "\n",
    "train.plot(figsize=(10,6), title= 'Average Sales', fontsize=14)\n",
    "test.plot(figsize=(10,6), title= 'Average Sales', fontsize=14)\n",
    "Exp_Smooth['SES'].plot(figsize=(10,6), title= 'Average Sales', fontsize=14)\n",
    "plt.show()"
   ]
  },
  {
   "cell_type": "code",
   "execution_count": 41,
   "metadata": {},
   "outputs": [
    {
     "name": "stdout",
     "output_type": "stream",
     "text": [
      "316.3327190200752\n"
     ]
    }
   ],
   "source": [
    "from sklearn.metrics import mean_squared_error\n",
    "from math import sqrt\n",
    "rms = sqrt(mean_squared_error(test, Exp_Smooth.SES))\n",
    "print(rms)"
   ]
  },
  {
   "cell_type": "code",
   "execution_count": 43,
   "metadata": {},
   "outputs": [
    {
     "data": {
      "image/png": "[encoded data removed]",
      "text/plain": [
       "<Figure size 432x288 with 4 Axes>"
      ]
     },
     "metadata": {
      "needs_background": "light"
     },
     "output_type": "display_data"
    }
   ],
   "source": [
    "#which model is useful\n",
    "import statsmodels.api as sm\n",
    "decomposition = sm.tsa.seasonal_decompose(y)#1\n",
    "fig = decomposition.plot()\n",
    "plt.show()\n",
    "#residual is the random error line."
   ]
  },
  {
   "cell_type": "code",
   "execution_count": 45,
   "metadata": {},
   "outputs": [
    {
     "data": {
      "image/png": "[encoded data removed]",
      "text/plain": [
       "<Figure size 720x432 with 1 Axes>"
      ]
     },
     "metadata": {
      "needs_background": "light"
     },
     "output_type": "display_data"
    }
   ],
   "source": [
    "from statsmodels.tsa.api import Holt\n",
    "Holt_df = test.copy()\n",
    "\n",
    "fit1 = Holt(train).fit(smoothing_level = 0.05,smoothing_slope = 0.75)#fit the training data, smoothing level the weights on the data, smoothing slope incilination angle.\n",
    "Holt_df['Holt_linear'] = fit1.forecast(len(test))\n",
    "\n",
    "train.plot(figsize=(10,6), title= 'Average Sales', fontsize=14)\n",
    "test.plot(figsize=(10,6), title= 'Average Sales', fontsize=14)\n",
    "Holt_df['Holt_linear'].plot(figsize=(10,6), title= 'Average Sales', fontsize=14)\n",
    "plt.show()"
   ]
  },
  {
   "cell_type": "code",
   "execution_count": 46,
   "metadata": {},
   "outputs": [
    {
     "name": "stdout",
     "output_type": "stream",
     "text": [
      "215.57931215799604\n"
     ]
    }
   ],
   "source": [
    "from sklearn.metrics import mean_squared_error\n",
    "from math import sqrt\n",
    "rms = sqrt(mean_squared_error(test, Holt_df['Holt_linear']))\n",
    "print(rms)"
   ]
  },
  {
   "cell_type": "code",
   "execution_count": null,
   "metadata": {},
   "outputs": [],
   "source": []
  },
  {
   "cell_type": "code",
   "execution_count": 47,
   "metadata": {},
   "outputs": [
    {
     "name": "stderr",
     "output_type": "stream",
     "text": [
      "C:\\Users\\DELL\\Anaconda3\\lib\\site-packages\\statsmodels\\tsa\\holtwinters.py:712: ConvergenceWarning: Optimization failed to converge. Check mle_retvals.\n",
      "  ConvergenceWarning)\n"
     ]
    },
    {
     "data": {
      "image/png": "[encoded data removed]",
      "text/plain": [
       "<Figure size 720x432 with 1 Axes>"
      ]
     },
     "metadata": {
      "needs_background": "light"
     },
     "output_type": "display_data"
    }
   ],
   "source": [
    "from statsmodels.tsa.api import ExponentialSmoothing\n",
    "Holt_Winter_df = test.copy()\n",
    "fit1 = ExponentialSmoothing(train ,seasonal_periods=12,#senality periods means that every 12months the pattern is repeated. \n",
    "                            \n",
    "                            trend='add',\n",
    "                            seasonal='add').fit()\n",
    "Holt_Winter_df['Holt_Winter'] = fit1.forecast(len(test))\n",
    "#2 models: addtive, multiplicative(mul)\n",
    "# addtive :where stable graphs\n",
    "# multiplicative: where exponential graph\n",
    "train.plot(figsize=(10,6), title= 'Average Sales', fontsize=14)\n",
    "test.plot(figsize=(10,6), title= 'Average Sales', fontsize=14)\n",
    "Holt_Winter_df['Holt_Winter'].plot(figsize=(10,6), title= 'Average Sales', fontsize=14)\n",
    "plt.show()"
   ]
  },
  {
   "cell_type": "code",
   "execution_count": 48,
   "metadata": {},
   "outputs": [
    {
     "name": "stdout",
     "output_type": "stream",
     "text": [
      "193.9119904555351\n"
     ]
    }
   ],
   "source": [
    "from sklearn.metrics import mean_squared_error\n",
    "from math import sqrt\n",
    "rms = sqrt(mean_squared_error(test, Holt_Winter_df['Holt_Winter']))\n",
    "print(rms)"
   ]
  },
  {
   "cell_type": "code",
   "execution_count": null,
   "metadata": {},
   "outputs": [],
   "source": []
  },
  {
   "cell_type": "code",
   "execution_count": 49,
   "metadata": {
    "scrolled": false
   },
   "outputs": [
    {
     "name": "stdout",
     "output_type": "stream",
     "text": [
      "ADF Statistic: -5.191070187339275\n",
      "p-value: 0.000009\n"
     ]
    }
   ],
   "source": [
    "#checking stationarity\n",
    "from statsmodels.tsa.stattools import adfuller\n",
    "result = adfuller(y)\n",
    "print('ADF Statistic:',result[0])\n",
    "print('p-value: %f' %result[1])\n",
    "#p <=0.05 than it shows the unstationary can be ignored."
   ]
  },
  {
   "cell_type": "code",
   "execution_count": 51,
   "metadata": {},
   "outputs": [
    {
     "data": {
      "image/png": "[encoded data removed]",
      "text/plain": [
       "<Figure size 720x432 with 1 Axes>"
      ]
     },
     "metadata": {
      "needs_background": "light"
     },
     "output_type": "display_data"
    }
   ],
   "source": [
    "#1st order is passed to convert it into stationary\n",
    "#f=y.diff( periods= 1)\n",
    "#f.plot(figsize=(10, 6))\n",
    "#plt.show()\n"
   ]
  },
  {
   "cell_type": "code",
   "execution_count": 54,
   "metadata": {
    "scrolled": true
   },
   "outputs": [
    {
     "name": "stdout",
     "output_type": "stream",
     "text": [
      "SARIMAX: (0, 2, 1) x (0, 2, 1, 12)\n"
     ]
    }
   ],
   "source": [
    "import itertools\n",
    "p = d = q = range(0, 3)\n",
    "pdq = list(itertools.product(p, d, q))\n",
    "seasonal_pdq = [(x[0], x[1], x[2], 12) for x in list(itertools.product(p, d, q))]\n",
    "\n",
    "print('SARIMAX:',pdq[7],'x', seasonal_pdq[7])\n"
   ]
  },
  {
   "cell_type": "code",
   "execution_count": 55,
   "metadata": {},
   "outputs": [
    {
     "data": {
      "text/plain": [
       "[(0, 0, 0),\n",
       " (0, 0, 1),\n",
       " (0, 0, 2),\n",
       " (0, 1, 0),\n",
       " (0, 1, 1),\n",
       " (0, 1, 2),\n",
       " (0, 2, 0),\n",
       " (0, 2, 1),\n",
       " (0, 2, 2),\n",
       " (1, 0, 0),\n",
       " (1, 0, 1),\n",
       " (1, 0, 2),\n",
       " (1, 1, 0),\n",
       " (1, 1, 1),\n",
       " (1, 1, 2),\n",
       " (1, 2, 0),\n",
       " (1, 2, 1),\n",
       " (1, 2, 2),\n",
       " (2, 0, 0),\n",
       " (2, 0, 1),\n",
       " (2, 0, 2),\n",
       " (2, 1, 0),\n",
       " (2, 1, 1),\n",
       " (2, 1, 2),\n",
       " (2, 2, 0),\n",
       " (2, 2, 1),\n",
       " (2, 2, 2)]"
      ]
     },
     "execution_count": 55,
     "metadata": {},
     "output_type": "execute_result"
    }
   ],
   "source": [
    "pdq"
   ]
  },
  {
   "cell_type": "code",
   "execution_count": 57,
   "metadata": {},
   "outputs": [
    {
     "data": {
      "text/plain": [
       "[(0, 0, 0, 12),\n",
       " (0, 0, 1, 12),\n",
       " (0, 0, 2, 12),\n",
       " (0, 1, 0, 12),\n",
       " (0, 1, 1, 12),\n",
       " (0, 1, 2, 12),\n",
       " (0, 2, 0, 12),\n",
       " (0, 2, 1, 12),\n",
       " (0, 2, 2, 12),\n",
       " (1, 0, 0, 12),\n",
       " (1, 0, 1, 12),\n",
       " (1, 0, 2, 12),\n",
       " (1, 1, 0, 12),\n",
       " (1, 1, 1, 12),\n",
       " (1, 1, 2, 12),\n",
       " (1, 2, 0, 12),\n",
       " (1, 2, 1, 12),\n",
       " (1, 2, 2, 12),\n",
       " (2, 0, 0, 12),\n",
       " (2, 0, 1, 12),\n",
       " (2, 0, 2, 12),\n",
       " (2, 1, 0, 12),\n",
       " (2, 1, 1, 12),\n",
       " (2, 1, 2, 12),\n",
       " (2, 2, 0, 12),\n",
       " (2, 2, 1, 12),\n",
       " (2, 2, 2, 12)]"
      ]
     },
     "execution_count": 57,
     "metadata": {},
     "output_type": "execute_result"
    }
   ],
   "source": [
    "seasonal_pdq"
   ]
  },
  {
   "cell_type": "code",
   "execution_count": 62,
   "metadata": {},
   "outputs": [
    {
     "name": "stdout",
     "output_type": "stream",
     "text": [
      "ARIMA (0, 0, 0) x (0, 0, 0, 12)  - AIC: 769.0817523205916\n"
     ]
    },
    {
     "name": "stderr",
     "output_type": "stream",
     "text": [
      "C:\\Users\\DELL\\Anaconda3\\lib\\site-packages\\statsmodels\\base\\model.py:512: ConvergenceWarning: Maximum Likelihood optimization failed to converge. Check mle_retvals\n",
      "  \"Check mle_retvals\", ConvergenceWarning)\n"
     ]
    },
    {
     "name": "stdout",
     "output_type": "stream",
     "text": [
      "ARIMA (0, 0, 0) x (0, 0, 1, 12)  - AIC: 1262.9008852943964\n",
      "ARIMA (0, 0, 0) x (0, 1, 0, 12)  - AIC: 477.71701309202774\n",
      "ARIMA (0, 0, 0) x (0, 2, 0, 12)  - AIC: 336.95366048461585\n",
      "ARIMA (0, 0, 0) x (1, 0, 0, 12)  - AIC: 497.2314433418337\n"
     ]
    },
    {
     "name": "stderr",
     "output_type": "stream",
     "text": [
      "C:\\Users\\DELL\\Anaconda3\\lib\\site-packages\\statsmodels\\base\\model.py:512: ConvergenceWarning: Maximum Likelihood optimization failed to converge. Check mle_retvals\n",
      "  \"Check mle_retvals\", ConvergenceWarning)\n"
     ]
    },
    {
     "name": "stdout",
     "output_type": "stream",
     "text": [
      "ARIMA (0, 0, 0) x (1, 0, 1, 12)  - AIC: 839.0882067141837\n",
      "ARIMA (0, 0, 0) x (1, 1, 0, 12)  - AIC: 318.0047199116341\n",
      "ARIMA (0, 0, 0) x (1, 2, 0, 12)  - AIC: 162.1202948716551\n",
      "ARIMA (0, 0, 0) x (2, 0, 0, 12)  - AIC: 319.96929434508735\n"
     ]
    },
    {
     "name": "stderr",
     "output_type": "stream",
     "text": [
      "C:\\Users\\DELL\\Anaconda3\\lib\\site-packages\\statsmodels\\base\\model.py:512: ConvergenceWarning: Maximum Likelihood optimization failed to converge. Check mle_retvals\n",
      "  \"Check mle_retvals\", ConvergenceWarning)\n"
     ]
    },
    {
     "name": "stdout",
     "output_type": "stream",
     "text": [
      "ARIMA (0, 0, 0) x (2, 0, 1, 12)  - AIC: 742.1917402231059\n",
      "ARIMA (0, 0, 0) x (2, 1, 0, 12)  - AIC: 159.5144730671919\n",
      "ARIMA (0, 0, 1) x (0, 0, 0, 12)  - AIC: 720.9252270758096\n",
      "ARIMA (0, 0, 1) x (0, 0, 1, 12)  - AIC: 2975.1512591929077\n",
      "ARIMA (0, 0, 1) x (0, 1, 0, 12)  - AIC: 466.56074298091255\n",
      "ARIMA (0, 0, 1) x (0, 2, 0, 12)  - AIC: 324.4135789671837\n"
     ]
    },
    {
     "name": "stderr",
     "output_type": "stream",
     "text": [
      "C:\\Users\\DELL\\Anaconda3\\lib\\site-packages\\statsmodels\\base\\model.py:512: ConvergenceWarning: Maximum Likelihood optimization failed to converge. Check mle_retvals\n",
      "  \"Check mle_retvals\", ConvergenceWarning)\n"
     ]
    },
    {
     "name": "stdout",
     "output_type": "stream",
     "text": [
      "ARIMA (0, 0, 1) x (1, 0, 0, 12)  - AIC: 499.57839942321823\n"
     ]
    },
    {
     "name": "stderr",
     "output_type": "stream",
     "text": [
      "C:\\Users\\DELL\\Anaconda3\\lib\\site-packages\\statsmodels\\base\\model.py:512: ConvergenceWarning: Maximum Likelihood optimization failed to converge. Check mle_retvals\n",
      "  \"Check mle_retvals\", ConvergenceWarning)\n"
     ]
    },
    {
     "name": "stdout",
     "output_type": "stream",
     "text": [
      "ARIMA (0, 0, 1) x (1, 0, 1, 12)  - AIC: 2502.4370439935674\n",
      "ARIMA (0, 0, 1) x (1, 1, 0, 12)  - AIC: 319.9884876946869\n",
      "ARIMA (0, 0, 1) x (1, 2, 0, 12)  - AIC: 163.98834428110356\n",
      "ARIMA (0, 0, 1) x (2, 0, 0, 12)  - AIC: 321.9645277037848\n"
     ]
    },
    {
     "name": "stderr",
     "output_type": "stream",
     "text": [
      "C:\\Users\\DELL\\Anaconda3\\lib\\site-packages\\statsmodels\\base\\model.py:512: ConvergenceWarning: Maximum Likelihood optimization failed to converge. Check mle_retvals\n",
      "  \"Check mle_retvals\", ConvergenceWarning)\n"
     ]
    },
    {
     "name": "stdout",
     "output_type": "stream",
     "text": [
      "ARIMA (0, 0, 1) x (2, 0, 1, 12)  - AIC: 774.1300262841672\n",
      "ARIMA (0, 0, 1) x (2, 1, 0, 12)  - AIC: 160.8541004925012\n",
      "ARIMA (0, 0, 2) x (0, 0, 0, 12)  - AIC: 695.9854310935208\n"
     ]
    },
    {
     "name": "stderr",
     "output_type": "stream",
     "text": [
      "C:\\Users\\DELL\\Anaconda3\\lib\\site-packages\\statsmodels\\base\\model.py:512: ConvergenceWarning: Maximum Likelihood optimization failed to converge. Check mle_retvals\n",
      "  \"Check mle_retvals\", ConvergenceWarning)\n"
     ]
    },
    {
     "name": "stdout",
     "output_type": "stream",
     "text": [
      "ARIMA (0, 0, 2) x (0, 0, 1, 12)  - AIC: 2641.7116566043064\n",
      "ARIMA (0, 0, 2) x (0, 1, 0, 12)  - AIC: 455.20934746187635\n",
      "ARIMA (0, 0, 2) x (0, 2, 0, 12)  - AIC: 311.8417385725391\n"
     ]
    },
    {
     "name": "stderr",
     "output_type": "stream",
     "text": [
      "C:\\Users\\DELL\\Anaconda3\\lib\\site-packages\\statsmodels\\base\\model.py:512: ConvergenceWarning: Maximum Likelihood optimization failed to converge. Check mle_retvals\n",
      "  \"Check mle_retvals\", ConvergenceWarning)\n"
     ]
    },
    {
     "name": "stdout",
     "output_type": "stream",
     "text": [
      "ARIMA (0, 0, 2) x (1, 0, 0, 12)  - AIC: 500.99966452882825\n",
      "ARIMA (0, 0, 2) x (1, 0, 1, 12)  - AIC: 18845.294779592143\n",
      "ARIMA (0, 0, 2) x (1, 1, 0, 12)  - AIC: 321.8800584473879\n",
      "ARIMA (0, 0, 2) x (1, 2, 0, 12)  - AIC: 164.1823760377613\n",
      "ARIMA (0, 0, 2) x (2, 0, 0, 12)  - AIC: 323.58227595521737\n"
     ]
    },
    {
     "name": "stderr",
     "output_type": "stream",
     "text": [
      "C:\\Users\\DELL\\Anaconda3\\lib\\site-packages\\statsmodels\\base\\model.py:512: ConvergenceWarning: Maximum Likelihood optimization failed to converge. Check mle_retvals\n",
      "  \"Check mle_retvals\", ConvergenceWarning)\n"
     ]
    },
    {
     "name": "stdout",
     "output_type": "stream",
     "text": [
      "ARIMA (0, 0, 2) x (2, 0, 1, 12)  - AIC: 630.1193416998775\n",
      "ARIMA (0, 0, 2) x (2, 1, 0, 12)  - AIC: 163.57819530873556\n",
      "ARIMA (0, 1, 0) x (0, 0, 0, 12)  - AIC: 677.8947668259311\n"
     ]
    },
    {
     "name": "stderr",
     "output_type": "stream",
     "text": [
      "C:\\Users\\DELL\\Anaconda3\\lib\\site-packages\\statsmodels\\base\\model.py:512: ConvergenceWarning: Maximum Likelihood optimization failed to converge. Check mle_retvals\n",
      "  \"Check mle_retvals\", ConvergenceWarning)\n"
     ]
    },
    {
     "name": "stdout",
     "output_type": "stream",
     "text": [
      "ARIMA (0, 1, 0) x (0, 0, 1, 12)  - AIC: 1413.6477298516172\n",
      "ARIMA (0, 1, 0) x (0, 1, 0, 12)  - AIC: 486.63785672282035\n",
      "ARIMA (0, 1, 0) x (0, 2, 0, 12)  - AIC: 334.9778123365098\n",
      "ARIMA (0, 1, 0) x (1, 0, 0, 12)  - AIC: 497.78896630044073\n"
     ]
    },
    {
     "name": "stderr",
     "output_type": "stream",
     "text": [
      "C:\\Users\\DELL\\Anaconda3\\lib\\site-packages\\statsmodels\\base\\model.py:512: ConvergenceWarning: Maximum Likelihood optimization failed to converge. Check mle_retvals\n",
      "  \"Check mle_retvals\", ConvergenceWarning)\n"
     ]
    },
    {
     "name": "stdout",
     "output_type": "stream",
     "text": [
      "ARIMA (0, 1, 0) x (1, 0, 1, 12)  - AIC: 1352.6147833754385\n",
      "ARIMA (0, 1, 0) x (1, 1, 0, 12)  - AIC: 319.7714068109212\n",
      "ARIMA (0, 1, 0) x (1, 2, 0, 12)  - AIC: 152.4285210659633\n",
      "ARIMA (0, 1, 0) x (2, 0, 0, 12)  - AIC: 317.69402237661177\n"
     ]
    },
    {
     "name": "stderr",
     "output_type": "stream",
     "text": [
      "C:\\Users\\DELL\\Anaconda3\\lib\\site-packages\\statsmodels\\base\\model.py:512: ConvergenceWarning: Maximum Likelihood optimization failed to converge. Check mle_retvals\n",
      "  \"Check mle_retvals\", ConvergenceWarning)\n"
     ]
    },
    {
     "name": "stdout",
     "output_type": "stream",
     "text": [
      "ARIMA (0, 1, 0) x (2, 0, 1, 12)  - AIC: 847.4083314047551\n",
      "ARIMA (0, 1, 0) x (2, 1, 0, 12)  - AIC: 153.33829187964872\n",
      "ARIMA (0, 1, 1) x (0, 0, 0, 12)  - AIC: 649.9056176817146\n",
      "ARIMA (0, 1, 1) x (0, 0, 1, 12)  - AIC: 2712.447035999132\n",
      "ARIMA (0, 1, 1) x (0, 1, 0, 12)  - AIC: 458.8705548482808\n",
      "ARIMA (0, 1, 1) x (0, 2, 0, 12)  - AIC: 317.1957697239929\n",
      "ARIMA (0, 1, 1) x (1, 0, 0, 12)  - AIC: 486.1832977442803\n",
      "ARIMA (0, 1, 1) x (1, 0, 1, 12)  - AIC: 2573.057462343724\n",
      "ARIMA (0, 1, 1) x (1, 1, 0, 12)  - AIC: 310.75743684173517\n",
      "ARIMA (0, 1, 1) x (1, 2, 0, 12)  - AIC: 154.4175410259515\n",
      "ARIMA (0, 1, 1) x (2, 0, 0, 12)  - AIC: 311.85906742411925\n"
     ]
    },
    {
     "name": "stderr",
     "output_type": "stream",
     "text": [
      "C:\\Users\\DELL\\Anaconda3\\lib\\site-packages\\statsmodels\\base\\model.py:512: ConvergenceWarning: Maximum Likelihood optimization failed to converge. Check mle_retvals\n",
      "  \"Check mle_retvals\", ConvergenceWarning)\n"
     ]
    },
    {
     "name": "stdout",
     "output_type": "stream",
     "text": [
      "ARIMA (0, 1, 1) x (2, 0, 1, 12)  - AIC: 924.257404736361\n",
      "ARIMA (0, 1, 1) x (2, 1, 0, 12)  - AIC: 149.57227369321828\n",
      "ARIMA (0, 1, 2) x (0, 0, 0, 12)  - AIC: 634.8844283595733\n",
      "ARIMA (0, 1, 2) x (0, 0, 1, 12)  - AIC: 2614.1204919808815\n",
      "ARIMA (0, 1, 2) x (0, 1, 0, 12)  - AIC: 447.5857396952605\n",
      "ARIMA (0, 1, 2) x (0, 2, 0, 12)  - AIC: 305.0344535943279\n",
      "ARIMA (0, 1, 2) x (1, 0, 0, 12)  - AIC: 487.49869126812695\n",
      "ARIMA (0, 1, 2) x (1, 0, 1, 12)  - AIC: 2812.3950158909784\n",
      "ARIMA (0, 1, 2) x (1, 1, 0, 12)  - AIC: 310.73389307281394\n",
      "ARIMA (0, 1, 2) x (1, 2, 0, 12)  - AIC: 154.69701034326\n",
      "ARIMA (0, 1, 2) x (2, 0, 0, 12)  - AIC: 313.4823847170337\n"
     ]
    },
    {
     "name": "stderr",
     "output_type": "stream",
     "text": [
      "C:\\Users\\DELL\\Anaconda3\\lib\\site-packages\\statsmodels\\base\\model.py:512: ConvergenceWarning: Maximum Likelihood optimization failed to converge. Check mle_retvals\n",
      "  \"Check mle_retvals\", ConvergenceWarning)\n"
     ]
    },
    {
     "name": "stdout",
     "output_type": "stream",
     "text": [
      "ARIMA (0, 1, 2) x (2, 0, 1, 12)  - AIC: 815.2296836885961\n",
      "ARIMA (0, 1, 2) x (2, 1, 0, 12)  - AIC: 151.1905645784282\n",
      "ARIMA (0, 2, 0) x (0, 0, 0, 12)  - AIC: 710.1125557214733\n",
      "ARIMA (0, 2, 0) x (0, 0, 1, 12)  - AIC: 1400.9430002821964\n",
      "ARIMA (0, 2, 0) x (0, 1, 0, 12)  - AIC: 509.89680954679733\n",
      "ARIMA (0, 2, 0) x (0, 2, 0, 12)  - AIC: 342.95441984186476\n",
      "ARIMA (0, 2, 0) x (1, 0, 0, 12)  - AIC: 520.887712617653\n"
     ]
    },
    {
     "name": "stderr",
     "output_type": "stream",
     "text": [
      "C:\\Users\\DELL\\Anaconda3\\lib\\site-packages\\statsmodels\\base\\model.py:512: ConvergenceWarning: Maximum Likelihood optimization failed to converge. Check mle_retvals\n",
      "  \"Check mle_retvals\", ConvergenceWarning)\n"
     ]
    },
    {
     "name": "stdout",
     "output_type": "stream",
     "text": [
      "ARIMA (0, 2, 0) x (1, 0, 1, 12)  - AIC: 1449.9471373436354\n",
      "ARIMA (0, 2, 0) x (1, 1, 0, 12)  - AIC: 331.25048446851144\n",
      "ARIMA (0, 2, 0) x (1, 2, 0, 12)  - AIC: 141.68398673297673\n",
      "ARIMA (0, 2, 0) x (2, 0, 0, 12)  - AIC: 327.59550043149045\n"
     ]
    },
    {
     "name": "stderr",
     "output_type": "stream",
     "text": [
      "C:\\Users\\DELL\\Anaconda3\\lib\\site-packages\\statsmodels\\base\\model.py:512: ConvergenceWarning: Maximum Likelihood optimization failed to converge. Check mle_retvals\n",
      "  \"Check mle_retvals\", ConvergenceWarning)\n"
     ]
    },
    {
     "name": "stdout",
     "output_type": "stream",
     "text": [
      "ARIMA (0, 2, 0) x (2, 0, 1, 12)  - AIC: 837.5339420528786\n",
      "ARIMA (0, 2, 0) x (2, 1, 0, 12)  - AIC: 143.52744982862234\n",
      "ARIMA (0, 2, 1) x (0, 0, 0, 12)  - AIC: 652.8685965207407\n",
      "ARIMA (0, 2, 1) x (0, 0, 1, 12)  - AIC: 2602.833761594331\n",
      "ARIMA (0, 2, 1) x (0, 1, 0, 12)  - AIC: 463.03465442793214\n",
      "ARIMA (0, 2, 1) x (0, 2, 0, 12)  - AIC: 310.3285223971962\n",
      "ARIMA (0, 2, 1) x (1, 0, 0, 12)  - AIC: 489.9458560734385\n",
      "ARIMA (0, 2, 1) x (1, 0, 1, 12)  - AIC: 2787.7035732136997\n",
      "ARIMA (0, 2, 1) x (1, 1, 0, 12)  - AIC: 310.98647286926007\n",
      "ARIMA (0, 2, 1) x (1, 2, 0, 12)  - AIC: 143.27935910567354\n",
      "ARIMA (0, 2, 1) x (2, 0, 0, 12)  - AIC: 310.50562447090715\n"
     ]
    },
    {
     "name": "stderr",
     "output_type": "stream",
     "text": [
      "C:\\Users\\DELL\\Anaconda3\\lib\\site-packages\\statsmodels\\base\\model.py:512: ConvergenceWarning: Maximum Likelihood optimization failed to converge. Check mle_retvals\n",
      "  \"Check mle_retvals\", ConvergenceWarning)\n"
     ]
    },
    {
     "name": "stdout",
     "output_type": "stream",
     "text": [
      "ARIMA (0, 2, 1) x (2, 0, 1, 12)  - AIC: 1006.4237786446204\n",
      "ARIMA (0, 2, 1) x (2, 1, 0, 12)  - AIC: 142.2987308949066\n",
      "ARIMA (0, 2, 2) x (0, 0, 0, 12)  - AIC: 628.8859101988096\n",
      "ARIMA (0, 2, 2) x (0, 0, 1, 12)  - AIC: 2597.530839831969\n",
      "ARIMA (0, 2, 2) x (0, 1, 0, 12)  - AIC: 440.1803441499159\n",
      "ARIMA (0, 2, 2) x (0, 2, 0, 12)  - AIC: 294.7466797054432\n",
      "ARIMA (0, 2, 2) x (1, 0, 0, 12)  - AIC: 482.90037030552344\n",
      "ARIMA (0, 2, 2) x (1, 0, 1, 12)  - AIC: 2408.487989615699\n",
      "ARIMA (0, 2, 2) x (1, 1, 0, 12)  - AIC: 305.8984452533344\n",
      "ARIMA (0, 2, 2) x (1, 2, 0, 12)  - AIC: 145.5934640561667\n",
      "ARIMA (0, 2, 2) x (2, 0, 0, 12)  - AIC: 306.328077216358\n"
     ]
    },
    {
     "name": "stderr",
     "output_type": "stream",
     "text": [
      "C:\\Users\\DELL\\Anaconda3\\lib\\site-packages\\statsmodels\\base\\model.py:512: ConvergenceWarning: Maximum Likelihood optimization failed to converge. Check mle_retvals\n",
      "  \"Check mle_retvals\", ConvergenceWarning)\n"
     ]
    },
    {
     "name": "stdout",
     "output_type": "stream",
     "text": [
      "ARIMA (0, 2, 2) x (2, 0, 1, 12)  - AIC: 921.487948522811\n"
     ]
    },
    {
     "name": "stderr",
     "output_type": "stream",
     "text": [
      "C:\\Users\\DELL\\Anaconda3\\lib\\site-packages\\statsmodels\\base\\model.py:512: ConvergenceWarning: Maximum Likelihood optimization failed to converge. Check mle_retvals\n",
      "  \"Check mle_retvals\", ConvergenceWarning)\n"
     ]
    },
    {
     "name": "stdout",
     "output_type": "stream",
     "text": [
      "ARIMA (0, 2, 2) x (2, 1, 0, 12)  - AIC: 140.87909944888975\n",
      "ARIMA (1, 0, 0) x (0, 0, 0, 12)  - AIC: 692.1645522067712\n"
     ]
    },
    {
     "name": "stderr",
     "output_type": "stream",
     "text": [
      "C:\\Users\\DELL\\Anaconda3\\lib\\site-packages\\statsmodels\\base\\model.py:512: ConvergenceWarning: Maximum Likelihood optimization failed to converge. Check mle_retvals\n",
      "  \"Check mle_retvals\", ConvergenceWarning)\n"
     ]
    },
    {
     "name": "stdout",
     "output_type": "stream",
     "text": [
      "ARIMA (1, 0, 0) x (0, 0, 1, 12)  - AIC: 1123.1962651501574\n",
      "ARIMA (1, 0, 0) x (0, 1, 0, 12)  - AIC: 479.46321478521355\n",
      "ARIMA (1, 0, 0) x (0, 2, 0, 12)  - AIC: 338.2224810186685\n",
      "ARIMA (1, 0, 0) x (1, 0, 0, 12)  - AIC: 480.9259367935202\n"
     ]
    },
    {
     "name": "stderr",
     "output_type": "stream",
     "text": [
      "C:\\Users\\DELL\\Anaconda3\\lib\\site-packages\\statsmodels\\base\\model.py:512: ConvergenceWarning: Maximum Likelihood optimization failed to converge. Check mle_retvals\n",
      "  \"Check mle_retvals\", ConvergenceWarning)\n"
     ]
    },
    {
     "name": "stdout",
     "output_type": "stream",
     "text": [
      "ARIMA (1, 0, 0) x (1, 0, 1, 12)  - AIC: 1437.1267920124171\n",
      "ARIMA (1, 0, 0) x (1, 1, 0, 12)  - AIC: 304.4664675084592\n",
      "ARIMA (1, 0, 0) x (1, 2, 0, 12)  - AIC: 151.38820367564483\n",
      "ARIMA (1, 0, 0) x (2, 0, 0, 12)  - AIC: 306.46394968427455\n"
     ]
    },
    {
     "name": "stderr",
     "output_type": "stream",
     "text": [
      "C:\\Users\\DELL\\Anaconda3\\lib\\site-packages\\statsmodels\\base\\model.py:512: ConvergenceWarning: Maximum Likelihood optimization failed to converge. Check mle_retvals\n",
      "  \"Check mle_retvals\", ConvergenceWarning)\n"
     ]
    },
    {
     "name": "stdout",
     "output_type": "stream",
     "text": [
      "ARIMA (1, 0, 0) x (2, 0, 1, 12)  - AIC: 852.6742768151461\n",
      "ARIMA (1, 0, 0) x (2, 1, 0, 12)  - AIC: 148.47129149084583\n",
      "ARIMA (1, 0, 1) x (0, 0, 0, 12)  - AIC: 665.779444218628\n"
     ]
    },
    {
     "name": "stderr",
     "output_type": "stream",
     "text": [
      "C:\\Users\\DELL\\Anaconda3\\lib\\site-packages\\statsmodels\\base\\model.py:512: ConvergenceWarning: Maximum Likelihood optimization failed to converge. Check mle_retvals\n",
      "  \"Check mle_retvals\", ConvergenceWarning)\n"
     ]
    },
    {
     "name": "stdout",
     "output_type": "stream",
     "text": [
      "ARIMA (1, 0, 1) x (0, 0, 1, 12)  - AIC: 2653.503813142992\n",
      "ARIMA (1, 0, 1) x (0, 1, 0, 12)  - AIC: 468.3685195815004\n",
      "ARIMA (1, 0, 1) x (0, 2, 0, 12)  - AIC: 326.36049011937155\n",
      "ARIMA (1, 0, 1) x (1, 0, 0, 12)  - AIC: 482.57633238772786\n",
      "ARIMA (1, 0, 1) x (1, 0, 1, 12)  - AIC: 3279.779685811484\n",
      "ARIMA (1, 0, 1) x (1, 1, 0, 12)  - AIC: 306.01560021176573\n",
      "ARIMA (1, 0, 1) x (1, 2, 0, 12)  - AIC: 153.45916401735315\n",
      "ARIMA (1, 0, 1) x (2, 0, 0, 12)  - AIC: 309.70965678833227\n"
     ]
    },
    {
     "name": "stderr",
     "output_type": "stream",
     "text": [
      "C:\\Users\\DELL\\Anaconda3\\lib\\site-packages\\statsmodels\\base\\model.py:512: ConvergenceWarning: Maximum Likelihood optimization failed to converge. Check mle_retvals\n",
      "  \"Check mle_retvals\", ConvergenceWarning)\n"
     ]
    },
    {
     "name": "stdout",
     "output_type": "stream",
     "text": [
      "ARIMA (1, 0, 1) x (2, 0, 1, 12)  - AIC: 919.6260916529262\n",
      "ARIMA (1, 0, 1) x (2, 1, 0, 12)  - AIC: 148.64415332020477\n",
      "ARIMA (1, 0, 2) x (0, 0, 0, 12)  - AIC: 652.5371565500263\n"
     ]
    },
    {
     "name": "stderr",
     "output_type": "stream",
     "text": [
      "C:\\Users\\DELL\\Anaconda3\\lib\\site-packages\\statsmodels\\base\\model.py:512: ConvergenceWarning: Maximum Likelihood optimization failed to converge. Check mle_retvals\n",
      "  \"Check mle_retvals\", ConvergenceWarning)\n"
     ]
    },
    {
     "name": "stdout",
     "output_type": "stream",
     "text": [
      "ARIMA (1, 0, 2) x (0, 0, 1, 12)  - AIC: nan\n",
      "ARIMA (1, 0, 2) x (0, 1, 0, 12)  - AIC: 454.51625971600413\n",
      "ARIMA (1, 0, 2) x (0, 2, 0, 12)  - AIC: 311.9686688260367\n",
      "ARIMA (1, 0, 2) x (1, 0, 0, 12)  - AIC: 483.9435796453899\n",
      "ARIMA (1, 0, 2) x (1, 0, 1, 12)  - AIC: 3330168.866503052\n",
      "ARIMA (1, 0, 2) x (1, 1, 0, 12)  - AIC: 305.8460722902931\n"
     ]
    },
    {
     "name": "stderr",
     "output_type": "stream",
     "text": [
      "C:\\Users\\DELL\\Anaconda3\\lib\\site-packages\\statsmodels\\base\\model.py:512: ConvergenceWarning: Maximum Likelihood optimization failed to converge. Check mle_retvals\n",
      "  \"Check mle_retvals\", ConvergenceWarning)\n"
     ]
    },
    {
     "name": "stdout",
     "output_type": "stream",
     "text": [
      "ARIMA (1, 0, 2) x (1, 2, 0, 12)  - AIC: 153.23892185525756\n",
      "ARIMA (1, 0, 2) x (2, 0, 0, 12)  - AIC: 309.0066788573627\n"
     ]
    },
    {
     "name": "stderr",
     "output_type": "stream",
     "text": [
      "C:\\Users\\DELL\\Anaconda3\\lib\\site-packages\\statsmodels\\base\\model.py:512: ConvergenceWarning: Maximum Likelihood optimization failed to converge. Check mle_retvals\n",
      "  \"Check mle_retvals\", ConvergenceWarning)\n"
     ]
    },
    {
     "name": "stdout",
     "output_type": "stream",
     "text": [
      "ARIMA (1, 0, 2) x (2, 0, 1, 12)  - AIC: 796.9170700629461\n",
      "ARIMA (1, 0, 2) x (2, 1, 0, 12)  - AIC: 150.64208002333663\n",
      "ARIMA (1, 1, 0) x (0, 0, 0, 12)  - AIC: 671.2513547541902\n"
     ]
    },
    {
     "name": "stderr",
     "output_type": "stream",
     "text": [
      "C:\\Users\\DELL\\Anaconda3\\lib\\site-packages\\statsmodels\\base\\model.py:512: ConvergenceWarning: Maximum Likelihood optimization failed to converge. Check mle_retvals\n",
      "  \"Check mle_retvals\", ConvergenceWarning)\n"
     ]
    },
    {
     "name": "stdout",
     "output_type": "stream",
     "text": [
      "ARIMA (1, 1, 0) x (0, 0, 1, 12)  - AIC: 1605.9925227629037\n",
      "ARIMA (1, 1, 0) x (0, 1, 0, 12)  - AIC: 479.20034222811347\n",
      "ARIMA (1, 1, 0) x (0, 2, 0, 12)  - AIC: 332.39565976239567\n",
      "ARIMA (1, 1, 0) x (1, 0, 0, 12)  - AIC: 475.3403658785043\n"
     ]
    },
    {
     "name": "stderr",
     "output_type": "stream",
     "text": [
      "C:\\Users\\DELL\\Anaconda3\\lib\\site-packages\\statsmodels\\base\\model.py:512: ConvergenceWarning: Maximum Likelihood optimization failed to converge. Check mle_retvals\n",
      "  \"Check mle_retvals\", ConvergenceWarning)\n"
     ]
    },
    {
     "name": "stdout",
     "output_type": "stream",
     "text": [
      "ARIMA (1, 1, 0) x (1, 0, 1, 12)  - AIC: 1306.0925140477964\n",
      "ARIMA (1, 1, 0) x (1, 1, 0, 12)  - AIC: 300.6270901345414\n",
      "ARIMA (1, 1, 0) x (1, 2, 0, 12)  - AIC: 140.97940432822267\n",
      "ARIMA (1, 1, 0) x (2, 0, 0, 12)  - AIC: 301.7688524289582\n"
     ]
    },
    {
     "name": "stderr",
     "output_type": "stream",
     "text": [
      "C:\\Users\\DELL\\Anaconda3\\lib\\site-packages\\statsmodels\\base\\model.py:512: ConvergenceWarning: Maximum Likelihood optimization failed to converge. Check mle_retvals\n",
      "  \"Check mle_retvals\", ConvergenceWarning)\n"
     ]
    },
    {
     "name": "stdout",
     "output_type": "stream",
     "text": [
      "ARIMA (1, 1, 0) x (2, 0, 1, 12)  - AIC: 869.7670172297072\n",
      "ARIMA (1, 1, 0) x (2, 1, 0, 12)  - AIC: 141.0336117250372\n",
      "ARIMA (1, 1, 1) x (0, 0, 0, 12)  - AIC: 649.0318019835125\n",
      "ARIMA (1, 1, 1) x (0, 0, 1, 12)  - AIC: 2706.243082489858\n",
      "ARIMA (1, 1, 1) x (0, 1, 0, 12)  - AIC: 460.47626876098116\n",
      "ARIMA (1, 1, 1) x (0, 2, 0, 12)  - AIC: 317.99077543476295\n",
      "ARIMA (1, 1, 1) x (1, 0, 0, 12)  - AIC: 469.525035466081\n"
     ]
    },
    {
     "name": "stderr",
     "output_type": "stream",
     "text": [
      "C:\\Users\\DELL\\Anaconda3\\lib\\site-packages\\statsmodels\\base\\model.py:512: ConvergenceWarning: Maximum Likelihood optimization failed to converge. Check mle_retvals\n",
      "  \"Check mle_retvals\", ConvergenceWarning)\n"
     ]
    },
    {
     "name": "stdout",
     "output_type": "stream",
     "text": [
      "ARIMA (1, 1, 1) x (1, 0, 1, 12)  - AIC: 2576.305524683936\n",
      "ARIMA (1, 1, 1) x (1, 1, 0, 12)  - AIC: 297.78754395396106\n",
      "ARIMA (1, 1, 1) x (1, 2, 0, 12)  - AIC: 139.89884389568027\n",
      "ARIMA (1, 1, 1) x (2, 0, 0, 12)  - AIC: 304.81353214544197\n"
     ]
    },
    {
     "name": "stderr",
     "output_type": "stream",
     "text": [
      "C:\\Users\\DELL\\Anaconda3\\lib\\site-packages\\statsmodels\\base\\model.py:512: ConvergenceWarning: Maximum Likelihood optimization failed to converge. Check mle_retvals\n",
      "  \"Check mle_retvals\", ConvergenceWarning)\n"
     ]
    },
    {
     "name": "stdout",
     "output_type": "stream",
     "text": [
      "ARIMA (1, 1, 1) x (2, 0, 1, 12)  - AIC: 886.011858932662\n",
      "ARIMA (1, 1, 1) x (2, 1, 0, 12)  - AIC: 138.33714365180742\n",
      "ARIMA (1, 1, 2) x (0, 0, 0, 12)  - AIC: 636.8790377891644\n"
     ]
    },
    {
     "name": "stderr",
     "output_type": "stream",
     "text": [
      "C:\\Users\\DELL\\Anaconda3\\lib\\site-packages\\statsmodels\\base\\model.py:512: ConvergenceWarning: Maximum Likelihood optimization failed to converge. Check mle_retvals\n",
      "  \"Check mle_retvals\", ConvergenceWarning)\n"
     ]
    },
    {
     "name": "stdout",
     "output_type": "stream",
     "text": [
      "ARIMA (1, 1, 2) x (0, 0, 1, 12)  - AIC: 2475.036630917959\n",
      "ARIMA (1, 1, 2) x (0, 1, 0, 12)  - AIC: 449.4788858975197\n",
      "ARIMA (1, 1, 2) x (0, 2, 0, 12)  - AIC: 305.71513971589843\n",
      "ARIMA (1, 1, 2) x (1, 0, 0, 12)  - AIC: 471.05557650906024\n",
      "ARIMA (1, 1, 2) x (1, 0, 1, 12)  - AIC: 10136782.16454795\n"
     ]
    },
    {
     "name": "stderr",
     "output_type": "stream",
     "text": [
      "C:\\Users\\DELL\\Anaconda3\\lib\\site-packages\\statsmodels\\base\\model.py:512: ConvergenceWarning: Maximum Likelihood optimization failed to converge. Check mle_retvals\n",
      "  \"Check mle_retvals\", ConvergenceWarning)\n"
     ]
    },
    {
     "name": "stdout",
     "output_type": "stream",
     "text": [
      "ARIMA (1, 1, 2) x (1, 1, 0, 12)  - AIC: 299.703823981777\n",
      "ARIMA (1, 1, 2) x (1, 2, 0, 12)  - AIC: 142.46380187452223\n",
      "ARIMA (1, 1, 2) x (2, 0, 0, 12)  - AIC: 302.2177681386451\n"
     ]
    },
    {
     "name": "stderr",
     "output_type": "stream",
     "text": [
      "C:\\Users\\DELL\\Anaconda3\\lib\\site-packages\\statsmodels\\base\\model.py:512: ConvergenceWarning: Maximum Likelihood optimization failed to converge. Check mle_retvals\n",
      "  \"Check mle_retvals\", ConvergenceWarning)\n"
     ]
    },
    {
     "name": "stdout",
     "output_type": "stream",
     "text": [
      "ARIMA (1, 1, 2) x (2, 0, 1, 12)  - AIC: 926.5325914280926\n"
     ]
    },
    {
     "name": "stderr",
     "output_type": "stream",
     "text": [
      "C:\\Users\\DELL\\Anaconda3\\lib\\site-packages\\statsmodels\\base\\model.py:512: ConvergenceWarning: Maximum Likelihood optimization failed to converge. Check mle_retvals\n",
      "  \"Check mle_retvals\", ConvergenceWarning)\n"
     ]
    },
    {
     "name": "stdout",
     "output_type": "stream",
     "text": [
      "ARIMA (1, 1, 2) x (2, 1, 0, 12)  - AIC: 140.9024011665672\n",
      "ARIMA (1, 2, 0) x (0, 0, 0, 12)  - AIC: 691.2298181871188\n"
     ]
    },
    {
     "name": "stderr",
     "output_type": "stream",
     "text": [
      "C:\\Users\\DELL\\Anaconda3\\lib\\site-packages\\statsmodels\\base\\model.py:512: ConvergenceWarning: Maximum Likelihood optimization failed to converge. Check mle_retvals\n",
      "  \"Check mle_retvals\", ConvergenceWarning)\n"
     ]
    },
    {
     "name": "stdout",
     "output_type": "stream",
     "text": [
      "ARIMA (1, 2, 0) x (0, 0, 1, 12)  - AIC: 1038.6624865507515\n",
      "ARIMA (1, 2, 0) x (0, 1, 0, 12)  - AIC: 487.72549582761314\n",
      "ARIMA (1, 2, 0) x (0, 2, 0, 12)  - AIC: 326.7564415658332\n",
      "ARIMA (1, 2, 0) x (1, 0, 0, 12)  - AIC: 485.774688590056\n",
      "ARIMA (1, 2, 0) x (1, 0, 1, 12)  - AIC: 2219.52569099224\n",
      "ARIMA (1, 2, 0) x (1, 1, 0, 12)  - AIC: 302.05521432252664\n",
      "ARIMA (1, 2, 0) x (1, 2, 0, 12)  - AIC: 129.59004245503533\n",
      "ARIMA (1, 2, 0) x (2, 0, 0, 12)  - AIC: 303.838521691436\n"
     ]
    },
    {
     "name": "stderr",
     "output_type": "stream",
     "text": [
      "C:\\Users\\DELL\\Anaconda3\\lib\\site-packages\\statsmodels\\base\\model.py:512: ConvergenceWarning: Maximum Likelihood optimization failed to converge. Check mle_retvals\n",
      "  \"Check mle_retvals\", ConvergenceWarning)\n"
     ]
    },
    {
     "name": "stdout",
     "output_type": "stream",
     "text": [
      "ARIMA (1, 2, 0) x (2, 0, 1, 12)  - AIC: 814.5116981717529\n",
      "ARIMA (1, 2, 0) x (2, 1, 0, 12)  - AIC: 130.86502683943394\n",
      "ARIMA (1, 2, 1) x (0, 0, 0, 12)  - AIC: 647.5183048787454\n",
      "ARIMA (1, 2, 1) x (0, 0, 1, 12)  - AIC: 2528.900805705414\n",
      "ARIMA (1, 2, 1) x (0, 1, 0, 12)  - AIC: 455.9868411970359\n",
      "ARIMA (1, 2, 1) x (0, 2, 0, 12)  - AIC: 308.33975356019283\n",
      "ARIMA (1, 2, 1) x (1, 0, 0, 12)  - AIC: 470.8350262821566\n",
      "ARIMA (1, 2, 1) x (1, 0, 1, 12)  - AIC: 13234.312548391119\n",
      "ARIMA (1, 2, 1) x (1, 1, 0, 12)  - AIC: 293.0917446828871\n",
      "ARIMA (1, 2, 1) x (1, 2, 0, 12)  - AIC: 128.46456179329533\n",
      "ARIMA (1, 2, 1) x (2, 0, 0, 12)  - AIC: 293.7678013029192\n"
     ]
    },
    {
     "name": "stderr",
     "output_type": "stream",
     "text": [
      "C:\\Users\\DELL\\Anaconda3\\lib\\site-packages\\statsmodels\\base\\model.py:512: ConvergenceWarning: Maximum Likelihood optimization failed to converge. Check mle_retvals\n",
      "  \"Check mle_retvals\", ConvergenceWarning)\n"
     ]
    },
    {
     "name": "stdout",
     "output_type": "stream",
     "text": [
      "ARIMA (1, 2, 1) x (2, 0, 1, 12)  - AIC: 972.8075974140947\n",
      "ARIMA (1, 2, 1) x (2, 1, 0, 12)  - AIC: 130.67250513582766\n",
      "ARIMA (1, 2, 2) x (0, 0, 0, 12)  - AIC: 629.3897471870449\n",
      "ARIMA (1, 2, 2) x (0, 0, 1, 12)  - AIC: 2452.1819721051825\n",
      "ARIMA (1, 2, 2) x (0, 1, 0, 12)  - AIC: 442.0816341807144\n",
      "ARIMA (1, 2, 2) x (0, 2, 0, 12)  - AIC: 294.56278264588116\n",
      "ARIMA (1, 2, 2) x (1, 0, 0, 12)  - AIC: 470.5931670709118\n",
      "ARIMA (1, 2, 2) x (1, 0, 1, 12)  - AIC: 2409.9506285590683\n",
      "ARIMA (1, 2, 2) x (1, 1, 0, 12)  - AIC: 293.3465954553294\n",
      "ARIMA (1, 2, 2) x (1, 2, 0, 12)  - AIC: 127.9594803852306\n",
      "ARIMA (1, 2, 2) x (2, 0, 0, 12)  - AIC: 294.00291413751006\n"
     ]
    },
    {
     "name": "stderr",
     "output_type": "stream",
     "text": [
      "C:\\Users\\DELL\\Anaconda3\\lib\\site-packages\\statsmodels\\base\\model.py:512: ConvergenceWarning: Maximum Likelihood optimization failed to converge. Check mle_retvals\n",
      "  \"Check mle_retvals\", ConvergenceWarning)\n"
     ]
    },
    {
     "name": "stdout",
     "output_type": "stream",
     "text": [
      "ARIMA (1, 2, 2) x (2, 0, 1, 12)  - AIC: 951.07907256785\n",
      "ARIMA (1, 2, 2) x (2, 1, 0, 12)  - AIC: 129.61643100707843\n",
      "ARIMA (2, 0, 0) x (0, 0, 0, 12)  - AIC: 673.0244705850719\n"
     ]
    },
    {
     "name": "stderr",
     "output_type": "stream",
     "text": [
      "C:\\Users\\DELL\\Anaconda3\\lib\\site-packages\\statsmodels\\base\\model.py:512: ConvergenceWarning: Maximum Likelihood optimization failed to converge. Check mle_retvals\n",
      "  \"Check mle_retvals\", ConvergenceWarning)\n"
     ]
    },
    {
     "name": "stdout",
     "output_type": "stream",
     "text": [
      "ARIMA (2, 0, 0) x (0, 0, 1, 12)  - AIC: nan\n",
      "ARIMA (2, 0, 0) x (0, 1, 0, 12)  - AIC: 468.3152343271876\n",
      "ARIMA (2, 0, 0) x (0, 2, 0, 12)  - AIC: 326.1432862885688\n",
      "ARIMA (2, 0, 0) x (1, 0, 0, 12)  - AIC: 469.6045539473415\n",
      "ARIMA (2, 0, 0) x (1, 0, 1, 12)  - AIC: 1233.250319893233\n",
      "ARIMA (2, 0, 0) x (1, 1, 0, 12)  - AIC: 293.56946448405256\n",
      "ARIMA (2, 0, 0) x (1, 2, 0, 12)  - AIC: 134.47815433022345\n",
      "ARIMA (2, 0, 0) x (2, 0, 0, 12)  - AIC: 295.52819097157186\n",
      "ARIMA (2, 0, 0) x (2, 0, 1, 12)  - AIC: 826.0391592931526\n",
      "ARIMA (2, 0, 0) x (2, 1, 0, 12)  - AIC: 136.0402041883064\n",
      "ARIMA (2, 0, 1) x (0, 0, 0, 12)  - AIC: 665.7944839756009\n",
      "ARIMA (2, 0, 1) x (0, 0, 1, 12)  - AIC: 12017.928049769256\n",
      "ARIMA (2, 0, 1) x (0, 1, 0, 12)  - AIC: 469.806921095709\n",
      "ARIMA (2, 0, 1) x (0, 2, 0, 12)  - AIC: 326.61489012829344\n",
      "ARIMA (2, 0, 1) x (1, 0, 0, 12)  - AIC: 471.1558179468351\n"
     ]
    },
    {
     "name": "stderr",
     "output_type": "stream",
     "text": [
      "C:\\Users\\DELL\\Anaconda3\\lib\\site-packages\\statsmodels\\base\\model.py:512: ConvergenceWarning: Maximum Likelihood optimization failed to converge. Check mle_retvals\n",
      "  \"Check mle_retvals\", ConvergenceWarning)\n"
     ]
    },
    {
     "name": "stdout",
     "output_type": "stream",
     "text": [
      "ARIMA (2, 0, 1) x (1, 0, 1, 12)  - AIC: 2456.061616581894\n",
      "ARIMA (2, 0, 1) x (1, 1, 0, 12)  - AIC: 294.14936432506596\n",
      "ARIMA (2, 0, 1) x (1, 2, 0, 12)  - AIC: 136.47829623563797\n",
      "ARIMA (2, 0, 1) x (2, 0, 0, 12)  - AIC: 295.93337008471764\n"
     ]
    },
    {
     "name": "stderr",
     "output_type": "stream",
     "text": [
      "C:\\Users\\DELL\\Anaconda3\\lib\\site-packages\\statsmodels\\base\\model.py:512: ConvergenceWarning: Maximum Likelihood optimization failed to converge. Check mle_retvals\n",
      "  \"Check mle_retvals\", ConvergenceWarning)\n"
     ]
    },
    {
     "name": "stdout",
     "output_type": "stream",
     "text": [
      "ARIMA (2, 0, 1) x (2, 0, 1, 12)  - AIC: 823.5743256426025\n"
     ]
    },
    {
     "name": "stderr",
     "output_type": "stream",
     "text": [
      "C:\\Users\\DELL\\Anaconda3\\lib\\site-packages\\statsmodels\\base\\model.py:512: ConvergenceWarning: Maximum Likelihood optimization failed to converge. Check mle_retvals\n",
      "  \"Check mle_retvals\", ConvergenceWarning)\n"
     ]
    },
    {
     "name": "stdout",
     "output_type": "stream",
     "text": [
      "ARIMA (2, 0, 1) x (2, 1, 0, 12)  - AIC: 133.59287381904892\n",
      "ARIMA (2, 0, 2) x (0, 0, 0, 12)  - AIC: 653.6818630916443\n"
     ]
    },
    {
     "name": "stderr",
     "output_type": "stream",
     "text": [
      "C:\\Users\\DELL\\Anaconda3\\lib\\site-packages\\statsmodels\\base\\model.py:512: ConvergenceWarning: Maximum Likelihood optimization failed to converge. Check mle_retvals\n",
      "  \"Check mle_retvals\", ConvergenceWarning)\n"
     ]
    },
    {
     "name": "stdout",
     "output_type": "stream",
     "text": [
      "ARIMA (2, 0, 2) x (0, 0, 1, 12)  - AIC: 2584.8135008810973\n",
      "ARIMA (2, 0, 2) x (0, 1, 0, 12)  - AIC: 453.6893814539736\n",
      "ARIMA (2, 0, 2) x (0, 2, 0, 12)  - AIC: 314.45821367126365\n",
      "ARIMA (2, 0, 2) x (1, 0, 0, 12)  - AIC: 471.84787721115885\n"
     ]
    },
    {
     "name": "stderr",
     "output_type": "stream",
     "text": [
      "C:\\Users\\DELL\\Anaconda3\\lib\\site-packages\\statsmodels\\base\\model.py:512: ConvergenceWarning: Maximum Likelihood optimization failed to converge. Check mle_retvals\n",
      "  \"Check mle_retvals\", ConvergenceWarning)\n"
     ]
    },
    {
     "name": "stdout",
     "output_type": "stream",
     "text": [
      "ARIMA (2, 0, 2) x (1, 0, 1, 12)  - AIC: 2390.8627236493926\n"
     ]
    },
    {
     "name": "stderr",
     "output_type": "stream",
     "text": [
      "C:\\Users\\DELL\\Anaconda3\\lib\\site-packages\\statsmodels\\base\\model.py:512: ConvergenceWarning: Maximum Likelihood optimization failed to converge. Check mle_retvals\n",
      "  \"Check mle_retvals\", ConvergenceWarning)\n"
     ]
    },
    {
     "name": "stdout",
     "output_type": "stream",
     "text": [
      "ARIMA (2, 0, 2) x (1, 1, 0, 12)  - AIC: 288.5615262933087\n",
      "ARIMA (2, 0, 2) x (1, 2, 0, 12)  - AIC: 135.252034115258\n"
     ]
    },
    {
     "name": "stderr",
     "output_type": "stream",
     "text": [
      "C:\\Users\\DELL\\Anaconda3\\lib\\site-packages\\statsmodels\\base\\model.py:512: ConvergenceWarning: Maximum Likelihood optimization failed to converge. Check mle_retvals\n",
      "  \"Check mle_retvals\", ConvergenceWarning)\n"
     ]
    },
    {
     "name": "stdout",
     "output_type": "stream",
     "text": [
      "ARIMA (2, 0, 2) x (2, 0, 0, 12)  - AIC: 292.4552179292475\n"
     ]
    },
    {
     "name": "stderr",
     "output_type": "stream",
     "text": [
      "C:\\Users\\DELL\\Anaconda3\\lib\\site-packages\\statsmodels\\base\\model.py:512: ConvergenceWarning: Maximum Likelihood optimization failed to converge. Check mle_retvals\n",
      "  \"Check mle_retvals\", ConvergenceWarning)\n"
     ]
    },
    {
     "name": "stdout",
     "output_type": "stream",
     "text": [
      "ARIMA (2, 0, 2) x (2, 0, 1, 12)  - AIC: 939.9996383622583\n"
     ]
    },
    {
     "name": "stderr",
     "output_type": "stream",
     "text": [
      "C:\\Users\\DELL\\Anaconda3\\lib\\site-packages\\statsmodels\\base\\model.py:512: ConvergenceWarning: Maximum Likelihood optimization failed to converge. Check mle_retvals\n",
      "  \"Check mle_retvals\", ConvergenceWarning)\n"
     ]
    },
    {
     "name": "stdout",
     "output_type": "stream",
     "text": [
      "ARIMA (2, 0, 2) x (2, 1, 0, 12)  - AIC: 133.45896473450586\n",
      "ARIMA (2, 1, 0) x (0, 0, 0, 12)  - AIC: 651.8913365664912\n"
     ]
    },
    {
     "name": "stderr",
     "output_type": "stream",
     "text": [
      "C:\\Users\\DELL\\Anaconda3\\lib\\site-packages\\statsmodels\\base\\model.py:512: ConvergenceWarning: Maximum Likelihood optimization failed to converge. Check mle_retvals\n",
      "  \"Check mle_retvals\", ConvergenceWarning)\n"
     ]
    },
    {
     "name": "stdout",
     "output_type": "stream",
     "text": [
      "ARIMA (2, 1, 0) x (0, 0, 1, 12)  - AIC: 1268.8939138005185\n",
      "ARIMA (2, 1, 0) x (0, 1, 0, 12)  - AIC: 464.8919482420158\n",
      "ARIMA (2, 1, 0) x (0, 2, 0, 12)  - AIC: 318.67122575690234\n",
      "ARIMA (2, 1, 0) x (1, 0, 0, 12)  - AIC: 461.97779691394487\n"
     ]
    },
    {
     "name": "stderr",
     "output_type": "stream",
     "text": [
      "C:\\Users\\DELL\\Anaconda3\\lib\\site-packages\\statsmodels\\base\\model.py:512: ConvergenceWarning: Maximum Likelihood optimization failed to converge. Check mle_retvals\n",
      "  \"Check mle_retvals\", ConvergenceWarning)\n"
     ]
    },
    {
     "name": "stdout",
     "output_type": "stream",
     "text": [
      "ARIMA (2, 1, 0) x (1, 0, 1, 12)  - AIC: 1351.559616032823\n",
      "ARIMA (2, 1, 0) x (1, 1, 0, 12)  - AIC: 288.39356504179057\n",
      "ARIMA (2, 1, 0) x (1, 2, 0, 12)  - AIC: 127.60471418785306\n",
      "ARIMA (2, 1, 0) x (2, 0, 0, 12)  - AIC: 288.7598698371215\n"
     ]
    },
    {
     "name": "stderr",
     "output_type": "stream",
     "text": [
      "C:\\Users\\DELL\\Anaconda3\\lib\\site-packages\\statsmodels\\base\\model.py:512: ConvergenceWarning: Maximum Likelihood optimization failed to converge. Check mle_retvals\n",
      "  \"Check mle_retvals\", ConvergenceWarning)\n"
     ]
    },
    {
     "name": "stdout",
     "output_type": "stream",
     "text": [
      "ARIMA (2, 1, 0) x (2, 0, 1, 12)  - AIC: 811.57598674619\n",
      "ARIMA (2, 1, 0) x (2, 1, 0, 12)  - AIC: 126.86910500705143\n",
      "ARIMA (2, 1, 1) x (0, 0, 0, 12)  - AIC: 653.7027592626051\n",
      "ARIMA (2, 1, 1) x (0, 0, 1, 12)  - AIC: 2550.558765978558\n",
      "ARIMA (2, 1, 1) x (0, 1, 0, 12)  - AIC: 461.57371821055176\n",
      "ARIMA (2, 1, 1) x (0, 2, 0, 12)  - AIC: 319.47517657380195\n",
      "ARIMA (2, 1, 1) x (1, 0, 0, 12)  - AIC: 457.9119800485608\n",
      "ARIMA (2, 1, 1) x (1, 0, 1, 12)  - AIC: 17131.501647619774\n",
      "ARIMA (2, 1, 1) x (1, 1, 0, 12)  - AIC: 287.8557403107505\n"
     ]
    },
    {
     "name": "stderr",
     "output_type": "stream",
     "text": [
      "C:\\Users\\DELL\\Anaconda3\\lib\\site-packages\\statsmodels\\base\\model.py:512: ConvergenceWarning: Maximum Likelihood optimization failed to converge. Check mle_retvals\n",
      "  \"Check mle_retvals\", ConvergenceWarning)\n"
     ]
    },
    {
     "name": "stdout",
     "output_type": "stream",
     "text": [
      "ARIMA (2, 1, 1) x (1, 2, 0, 12)  - AIC: 124.67867067427224\n",
      "ARIMA (2, 1, 1) x (2, 0, 0, 12)  - AIC: 287.8450931503738\n"
     ]
    },
    {
     "name": "stderr",
     "output_type": "stream",
     "text": [
      "C:\\Users\\DELL\\Anaconda3\\lib\\site-packages\\statsmodels\\base\\model.py:512: ConvergenceWarning: Maximum Likelihood optimization failed to converge. Check mle_retvals\n",
      "  \"Check mle_retvals\", ConvergenceWarning)\n"
     ]
    },
    {
     "name": "stdout",
     "output_type": "stream",
     "text": [
      "ARIMA (2, 1, 1) x (2, 0, 1, 12)  - AIC: 884.8955099599953\n",
      "ARIMA (2, 1, 1) x (2, 1, 0, 12)  - AIC: 126.3287651635741\n",
      "ARIMA (2, 1, 2) x (0, 0, 0, 12)  - AIC: 642.1210464604786\n",
      "ARIMA (2, 1, 2) x (0, 0, 1, 12)  - AIC: 2685.047938619584\n",
      "ARIMA (2, 1, 2) x (0, 1, 0, 12)  - AIC: 450.07118888732475\n",
      "ARIMA (2, 1, 2) x (0, 2, 0, 12)  - AIC: 305.94451673244646\n",
      "ARIMA (2, 1, 2) x (1, 0, 0, 12)  - AIC: 459.0451067156281\n",
      "ARIMA (2, 1, 2) x (1, 0, 1, 12)  - AIC: 42429.068140975105\n"
     ]
    },
    {
     "name": "stderr",
     "output_type": "stream",
     "text": [
      "C:\\Users\\DELL\\Anaconda3\\lib\\site-packages\\statsmodels\\base\\model.py:512: ConvergenceWarning: Maximum Likelihood optimization failed to converge. Check mle_retvals\n",
      "  \"Check mle_retvals\", ConvergenceWarning)\n"
     ]
    },
    {
     "name": "stdout",
     "output_type": "stream",
     "text": [
      "ARIMA (2, 1, 2) x (1, 1, 0, 12)  - AIC: 287.5621715111067\n"
     ]
    },
    {
     "name": "stderr",
     "output_type": "stream",
     "text": [
      "C:\\Users\\DELL\\Anaconda3\\lib\\site-packages\\statsmodels\\base\\model.py:512: ConvergenceWarning: Maximum Likelihood optimization failed to converge. Check mle_retvals\n",
      "  \"Check mle_retvals\", ConvergenceWarning)\n"
     ]
    },
    {
     "name": "stdout",
     "output_type": "stream",
     "text": [
      "ARIMA (2, 1, 2) x (1, 2, 0, 12)  - AIC: 127.59575569257085\n",
      "ARIMA (2, 1, 2) x (2, 0, 0, 12)  - AIC: 288.57203849023546\n"
     ]
    },
    {
     "name": "stderr",
     "output_type": "stream",
     "text": [
      "C:\\Users\\DELL\\Anaconda3\\lib\\site-packages\\statsmodels\\base\\model.py:512: ConvergenceWarning: Maximum Likelihood optimization failed to converge. Check mle_retvals\n",
      "  \"Check mle_retvals\", ConvergenceWarning)\n"
     ]
    },
    {
     "name": "stdout",
     "output_type": "stream",
     "text": [
      "ARIMA (2, 1, 2) x (2, 0, 1, 12)  - AIC: 831.5572647673242\n"
     ]
    },
    {
     "name": "stderr",
     "output_type": "stream",
     "text": [
      "C:\\Users\\DELL\\Anaconda3\\lib\\site-packages\\statsmodels\\base\\model.py:512: ConvergenceWarning: Maximum Likelihood optimization failed to converge. Check mle_retvals\n",
      "  \"Check mle_retvals\", ConvergenceWarning)\n"
     ]
    },
    {
     "name": "stdout",
     "output_type": "stream",
     "text": [
      "ARIMA (2, 1, 2) x (2, 1, 0, 12)  - AIC: 127.91172999599938\n",
      "ARIMA (2, 2, 0) x (0, 0, 0, 12)  - AIC: 656.9291821241189\n"
     ]
    },
    {
     "name": "stderr",
     "output_type": "stream",
     "text": [
      "C:\\Users\\DELL\\Anaconda3\\lib\\site-packages\\statsmodels\\base\\model.py:512: ConvergenceWarning: Maximum Likelihood optimization failed to converge. Check mle_retvals\n",
      "  \"Check mle_retvals\", ConvergenceWarning)\n"
     ]
    },
    {
     "name": "stdout",
     "output_type": "stream",
     "text": [
      "ARIMA (2, 2, 0) x (0, 0, 1, 12)  - AIC: 1509.2132621175942\n",
      "ARIMA (2, 2, 0) x (0, 1, 0, 12)  - AIC: 467.7456111917659\n",
      "ARIMA (2, 2, 0) x (0, 2, 0, 12)  - AIC: 311.6995205193398\n",
      "ARIMA (2, 2, 0) x (1, 0, 0, 12)  - AIC: 464.7608850390038\n"
     ]
    },
    {
     "name": "stderr",
     "output_type": "stream",
     "text": [
      "C:\\Users\\DELL\\Anaconda3\\lib\\site-packages\\statsmodels\\base\\model.py:512: ConvergenceWarning: Maximum Likelihood optimization failed to converge. Check mle_retvals\n",
      "  \"Check mle_retvals\", ConvergenceWarning)\n"
     ]
    },
    {
     "name": "stdout",
     "output_type": "stream",
     "text": [
      "ARIMA (2, 2, 0) x (1, 0, 1, 12)  - AIC: 1097.1605298933614\n",
      "ARIMA (2, 2, 0) x (1, 1, 0, 12)  - AIC: 286.0955354147753\n",
      "ARIMA (2, 2, 0) x (1, 2, 0, 12)  - AIC: 117.90430574034433\n",
      "ARIMA (2, 2, 0) x (2, 0, 0, 12)  - AIC: 283.1555485839394\n"
     ]
    },
    {
     "name": "stderr",
     "output_type": "stream",
     "text": [
      "C:\\Users\\DELL\\Anaconda3\\lib\\site-packages\\statsmodels\\base\\model.py:512: ConvergenceWarning: Maximum Likelihood optimization failed to converge. Check mle_retvals\n",
      "  \"Check mle_retvals\", ConvergenceWarning)\n"
     ]
    },
    {
     "name": "stdout",
     "output_type": "stream",
     "text": [
      "ARIMA (2, 2, 0) x (2, 0, 1, 12)  - AIC: 800.4137692053303\n",
      "ARIMA (2, 2, 0) x (2, 1, 0, 12)  - AIC: 117.49144309453331\n",
      "ARIMA (2, 2, 1) x (0, 0, 0, 12)  - AIC: 643.7507440372096\n",
      "ARIMA (2, 2, 1) x (0, 0, 1, 12)  - AIC: 589654.8918276952\n",
      "ARIMA (2, 2, 1) x (0, 1, 0, 12)  - AIC: 457.7096702182437\n",
      "ARIMA (2, 2, 1) x (0, 2, 0, 12)  - AIC: 309.3853855181672\n",
      "ARIMA (2, 2, 1) x (1, 0, 0, 12)  - AIC: 455.0965992766257\n",
      "ARIMA (2, 2, 1) x (1, 0, 1, 12)  - AIC: 2543.3657217266123\n",
      "ARIMA (2, 2, 1) x (1, 1, 0, 12)  - AIC: 279.4519907924096\n",
      "ARIMA (2, 2, 1) x (1, 2, 0, 12)  - AIC: 117.35996066333124\n",
      "ARIMA (2, 2, 1) x (2, 0, 0, 12)  - AIC: 279.4551139174966\n"
     ]
    },
    {
     "name": "stderr",
     "output_type": "stream",
     "text": [
      "C:\\Users\\DELL\\Anaconda3\\lib\\site-packages\\statsmodels\\base\\model.py:512: ConvergenceWarning: Maximum Likelihood optimization failed to converge. Check mle_retvals\n",
      "  \"Check mle_retvals\", ConvergenceWarning)\n"
     ]
    },
    {
     "name": "stdout",
     "output_type": "stream",
     "text": [
      "ARIMA (2, 2, 1) x (2, 0, 1, 12)  - AIC: 773.5835792949756\n"
     ]
    },
    {
     "name": "stderr",
     "output_type": "stream",
     "text": [
      "C:\\Users\\DELL\\Anaconda3\\lib\\site-packages\\statsmodels\\base\\model.py:512: ConvergenceWarning: Maximum Likelihood optimization failed to converge. Check mle_retvals\n",
      "  \"Check mle_retvals\", ConvergenceWarning)\n"
     ]
    },
    {
     "name": "stdout",
     "output_type": "stream",
     "text": [
      "ARIMA (2, 2, 1) x (2, 1, 0, 12)  - AIC: 116.26597577326146\n",
      "ARIMA (2, 2, 2) x (0, 0, 0, 12)  - AIC: 631.2678875793836\n",
      "ARIMA (2, 2, 2) x (0, 0, 1, 12)  - AIC: 2447.6096699888753\n",
      "ARIMA (2, 2, 2) x (0, 1, 0, 12)  - AIC: 445.24599241093443\n",
      "ARIMA (2, 2, 2) x (0, 2, 0, 12)  - AIC: 296.46503563114607\n",
      "ARIMA (2, 2, 2) x (1, 0, 0, 12)  - AIC: 452.31401812179365\n",
      "ARIMA (2, 2, 2) x (1, 0, 1, 12)  - AIC: 2662.003238155614\n"
     ]
    },
    {
     "name": "stderr",
     "output_type": "stream",
     "text": [
      "C:\\Users\\DELL\\Anaconda3\\lib\\site-packages\\statsmodels\\base\\model.py:512: ConvergenceWarning: Maximum Likelihood optimization failed to converge. Check mle_retvals\n",
      "  \"Check mle_retvals\", ConvergenceWarning)\n"
     ]
    },
    {
     "name": "stdout",
     "output_type": "stream",
     "text": [
      "ARIMA (2, 2, 2) x (1, 1, 0, 12)  - AIC: 281.44499476718147\n"
     ]
    },
    {
     "name": "stderr",
     "output_type": "stream",
     "text": [
      "C:\\Users\\DELL\\Anaconda3\\lib\\site-packages\\statsmodels\\base\\model.py:512: ConvergenceWarning: Maximum Likelihood optimization failed to converge. Check mle_retvals\n",
      "  \"Check mle_retvals\", ConvergenceWarning)\n"
     ]
    },
    {
     "name": "stdout",
     "output_type": "stream",
     "text": [
      "ARIMA (2, 2, 2) x (1, 2, 0, 12)  - AIC: 115.84973374439413\n",
      "ARIMA (2, 2, 2) x (2, 0, 0, 12)  - AIC: 281.31746769118155\n"
     ]
    },
    {
     "name": "stderr",
     "output_type": "stream",
     "text": [
      "C:\\Users\\DELL\\Anaconda3\\lib\\site-packages\\statsmodels\\base\\model.py:512: ConvergenceWarning: Maximum Likelihood optimization failed to converge. Check mle_retvals\n",
      "  \"Check mle_retvals\", ConvergenceWarning)\n"
     ]
    },
    {
     "name": "stdout",
     "output_type": "stream",
     "text": [
      "ARIMA (2, 2, 2) x (2, 0, 1, 12)  - AIC: 741.8311439432924\n",
      "ARIMA (2, 2, 2) x (2, 1, 0, 12)  - AIC: 119.41112537973882\n"
     ]
    },
    {
     "name": "stderr",
     "output_type": "stream",
     "text": [
      "C:\\Users\\DELL\\Anaconda3\\lib\\site-packages\\statsmodels\\base\\model.py:512: ConvergenceWarning: Maximum Likelihood optimization failed to converge. Check mle_retvals\n",
      "  \"Check mle_retvals\", ConvergenceWarning)\n"
     ]
    }
   ],
   "source": [
    "\n",
    "aic_list=[]\n",
    "for param in pdq:\n",
    "    for param_seasonal in seasonal_pdq:\n",
    "        try:\n",
    "            \n",
    "            mod = sm.tsa.statespace.SARIMAX(y, order=param,\n",
    "                                seasonal_order=param_seasonal,enforce_invertibility=False,\n",
    "                                            enforce_stationarity=False) \n",
    "            results = mod.fit()\n",
    "            print('ARIMA',param,'x',param_seasonal,' - AIC:',results.aic)\n",
    "            aic_list.append(results.aic)\n",
    "        except:\n",
    "            continue"
   ]
  },
  {
   "cell_type": "code",
   "execution_count": 64,
   "metadata": {},
   "outputs": [
    {
     "name": "stdout",
     "output_type": "stream",
     "text": [
      "115.84973374439413\n"
     ]
    }
   ],
   "source": [
    "print(min(aic_list))"
   ]
  },
  {
   "cell_type": "code",
   "execution_count": 65,
   "metadata": {},
   "outputs": [
    {
     "name": "stderr",
     "output_type": "stream",
     "text": [
      "C:\\Users\\DELL\\Anaconda3\\lib\\site-packages\\statsmodels\\base\\model.py:512: ConvergenceWarning: Maximum Likelihood optimization failed to converge. Check mle_retvals\n",
      "  \"Check mle_retvals\", ConvergenceWarning)\n"
     ]
    }
   ],
   "source": [
    "#For range of pdq (0,2)\n",
    "#ARIMA (1, 1, 1) x (1, 1, 0, 12)  - AIC: 297.7875439553055-->Best\n",
    "\"\"\"\n",
    "mod = sm.tsa.statespace.SARIMAX(y,\n",
    "                                order=(1, 1, 1),\n",
    "                                seasonal_order=(1, 1, 0, 12),enforce_invertibility=False,\n",
    "                                            enforce_stationarity=False)\n",
    "results = mod.fit()\n",
    "\"\"\"\n",
    "#For range of pdq (0,3)\n",
    "#ARIMA (2, 2, 1) x (2, 1, 0, 12)  - AIC: 116.26597421163433-->Best\n",
    "\n",
    "#(2, 2, 2) x (1, 2, 0, 12) - AIC: 115.7951484908144\n",
    "mod = sm.tsa.statespace.SARIMAX(y,\n",
    "                                order=(2, 2, 1),\n",
    "                                seasonal_order=(2, 1, 0, 12),enforce_invertibility=False,\n",
    "                                            enforce_stationarity=False)\n",
    "results = mod.fit()\n",
    "\n"
   ]
  },
  {
   "cell_type": "code",
   "execution_count": 66,
   "metadata": {},
   "outputs": [
    {
     "data": {
      "image/png": "[encoded data removed]",
      "text/plain": [
       "<Figure size 720x432 with 1 Axes>"
      ]
     },
     "metadata": {
      "needs_background": "light"
     },
     "output_type": "display_data"
    }
   ],
   "source": [
    "pred = results.get_prediction(start=pd.to_datetime('2017-01-01'))\n",
    "plt.figure(figsize=(10,6))\n",
    "ax = y['2014':].plot(label='observed')\n",
    "pred.predicted_mean.plot(ax=ax, label='Validation Forecast')\n",
    "ax.set_xlabel('Date')\n",
    "ax.set_ylabel('Furniture Sales')\n",
    "plt.legend()\n",
    "plt.show()"
   ]
  },
  {
   "cell_type": "code",
   "execution_count": 67,
   "metadata": {},
   "outputs": [
    {
     "data": {
      "text/plain": [
       "Order Date\n",
       "2017-01-01     724.033010\n",
       "2017-02-01     524.618253\n",
       "2017-03-01     744.583329\n",
       "2017-04-01     685.362373\n",
       "2017-05-01     665.523227\n",
       "2017-06-01     594.266519\n",
       "2017-07-01     678.181736\n",
       "2017-08-01     733.058300\n",
       "2017-09-01    1206.682070\n",
       "2017-10-01     625.074258\n",
       "2017-11-01    1429.006642\n",
       "2017-12-01    1468.979423\n",
       "Freq: MS, dtype: float64"
      ]
     },
     "execution_count": 67,
     "metadata": {},
     "output_type": "execute_result"
    }
   ],
   "source": [
    "pred.predicted_mean"
   ]
  },
  {
   "cell_type": "code",
   "execution_count": 68,
   "metadata": {
    "scrolled": false
   },
   "outputs": [
    {
     "name": "stdout",
     "output_type": "stream",
     "text": [
      "185.77906807185218\n"
     ]
    }
   ],
   "source": [
    "Y_pred = pred.predicted_mean\n",
    "Y_test = y['2017-01-01':]\n",
    "\n",
    "from sklearn.metrics import mean_squared_error\n",
    "from math import sqrt\n",
    "rms = sqrt(mean_squared_error(Y_test,Y_pred))\n",
    "print(rms)\n"
   ]
  },
  {
   "cell_type": "code",
   "execution_count": 69,
   "metadata": {},
   "outputs": [
    {
     "data": {
      "image/png": "[encoded data removed]",
      "text/plain": [
       "<Figure size 720x432 with 1 Axes>"
      ]
     },
     "metadata": {
      "needs_background": "light"
     },
     "output_type": "display_data"
    }
   ],
   "source": [
    "pred_uc = results.get_forecast(steps=30)\n",
    "plt.figure(figsize=(10,6))\n",
    "ax = y['2014':].plot(label='observed')\n",
    "pred_uc.predicted_mean.plot(ax=ax, label='One-step ahead Forecast')\n",
    "ax.set_xlabel('Date')\n",
    "ax.set_ylabel('Furniture Sales')\n",
    "plt.legend()\n",
    "plt.show()"
   ]
  },
  {
   "cell_type": "code",
   "execution_count": 70,
   "metadata": {
    "scrolled": true
   },
   "outputs": [
    {
     "data": {
      "text/plain": [
       "2018-01-01     546.777520\n",
       "2018-02-01     503.961257\n",
       "2018-03-01     596.433110\n",
       "2018-04-01     596.028059\n",
       "2018-05-01     736.508474\n",
       "2018-06-01     907.019854\n",
       "2018-07-01     704.962512\n",
       "2018-08-01     925.488912\n",
       "2018-09-01    1305.285297\n",
       "2018-10-01     941.026504\n",
       "2018-11-01    1403.329218\n",
       "2018-12-01    1429.229484\n",
       "2019-01-01     661.707630\n",
       "2019-02-01     665.846481\n",
       "2019-03-01     751.916959\n",
       "2019-04-01     740.536213\n",
       "2019-05-01     909.006324\n",
       "2019-06-01    1084.254153\n",
       "2019-07-01     877.887886\n",
       "2019-08-01    1124.321453\n",
       "2019-09-01    1507.410283\n",
       "2019-10-01    1159.140857\n",
       "2019-11-01    1617.786155\n",
       "2019-12-01    1642.723537\n",
       "2020-01-01     897.347803\n",
       "2020-02-01     900.638139\n",
       "2020-03-01     997.547035\n",
       "2020-04-01     998.009682\n",
       "2020-05-01    1169.782845\n",
       "2020-06-01    1353.428174\n",
       "Freq: MS, dtype: float64"
      ]
     },
     "execution_count": 70,
     "metadata": {},
     "output_type": "execute_result"
    }
   ],
   "source": [
    "Y_predictions=pred_uc.predicted_mean\n",
    "Y_predictions"
   ]
  },
  {
   "cell_type": "code",
   "execution_count": 71,
   "metadata": {},
   "outputs": [
    {
     "data": {
      "text/plain": [
       "pandas.core.series.Series"
      ]
     },
     "execution_count": 71,
     "metadata": {},
     "output_type": "execute_result"
    }
   ],
   "source": [
    "type(Y_predictions)"
   ]
  },
  {
   "cell_type": "code",
   "execution_count": 72,
   "metadata": {},
   "outputs": [],
   "source": [
    "Y_predictions.to_excel(\"TimeSeriesOutput.xlsx\")"
   ]
  },
  {
   "cell_type": "code",
   "execution_count": null,
   "metadata": {},
   "outputs": [],
   "source": []
  },
  {
   "cell_type": "code",
   "execution_count": null,
   "metadata": {},
   "outputs": [],
   "source": []
  },
  {
   "cell_type": "code",
   "execution_count": null,
   "metadata": {},
   "outputs": [],
   "source": []
  },
  {
   "cell_type": "code",
   "execution_count": null,
   "metadata": {},
   "outputs": [],
   "source": []
  },
  {
   "cell_type": "code",
   "execution_count": null,
   "metadata": {},
   "outputs": [],
   "source": []
  }
 ],
 "metadata": {
  "kernelspec": {
   "display_name": "Python 3",
   "language": "python",
   "name": "python3"
  },
  "language_info": {
   "codemirror_mode": {
    "name": "ipython",
    "version": 3
   },
   "file_extension": ".py",
   "mimetype": "text/x-python",
   "name": "python",
   "nbconvert_exporter": "python",
   "pygments_lexer": "ipython3",
   "version": "3.7.4"
  }
 },
 "nbformat": 4,
 "nbformat_minor": 2
}
